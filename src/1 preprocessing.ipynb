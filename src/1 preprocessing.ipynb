{
 "cells": [
  {
   "cell_type": "markdown",
   "metadata": {},
   "source": [
    "# Preprocessing"
   ]
  },
  {
   "cell_type": "code",
   "execution_count": 1,
   "metadata": {},
   "outputs": [],
   "source": [
    "import os\n",
    "import re\n",
    "import pandas as pd\n",
    "import numpy as np\n",
    "import matplotlib.pyplot as plt\n",
    "import pickle\n",
    "from itertools import chain\n",
    "from sklearn.preprocessing import StandardScaler\n",
    "from joblib import Parallel, delayed\n",
    "from fixation3d import extract_fixations"
   ]
  },
  {
   "cell_type": "code",
   "execution_count": 2,
   "metadata": {},
   "outputs": [],
   "source": [
    "participant_paths = [entry.path for entry in os.scandir(\"../data/input\") if \"EmbracePlus\" not in entry.path]"
   ]
  },
  {
   "cell_type": "code",
   "execution_count": 3,
   "metadata": {},
   "outputs": [],
   "source": [
    "def load_csv(file_path):\n",
    "    sensor_df = pd.read_csv(file_path)\n",
    "    sensor_df[\"timestamp\"] = pd.to_datetime(sensor_df[\"timestamp\"], unit=\"ms\").dt.tz_localize(\"CET\")\n",
    "    return sensor_df"
   ]
  },
  {
   "cell_type": "code",
   "execution_count": 4,
   "metadata": {},
   "outputs": [],
   "source": [
    "participant_data = {}\n",
    "for path in participant_paths:\n",
    "    participant_id = int(path.split(\"_P\")[-1]) - 100\n",
    "    participant_data[participant_id] = {}\n",
    "    participant_data[participant_id][\"eye_ray\"] = load_csv(f\"{path}/hololens2_eye_ray.csv\")\n",
    "    participant_data[participant_id][\"hand_pose\"] = load_csv(f\"{path}/hololens2_hand_pose.csv\")\n",
    "    participant_data[participant_id][\"head_pose\"] = load_csv(f\"{path}/hololens2_head_pose.csv\")\n",
    "    participant_data[participant_id][\"bvp\"] = load_csv(f\"{path}/empatica_e4_bvp.csv\")\n",
    "    participant_data[participant_id][\"eda\"] = load_csv(f\"{path}/empatica_e4_eda.csv\")\n",
    "    participant_data[participant_id][\"temperature\"] = load_csv(f\"{path}/empatica_e4_tmp.csv\")"
   ]
  },
  {
   "cell_type": "markdown",
   "metadata": {},
   "source": [
    "## Trial data"
   ]
  },
  {
   "cell_type": "code",
   "execution_count": 5,
   "metadata": {},
   "outputs": [],
   "source": [
    "tag_data = {}\n",
    "for path in participant_paths:\n",
    "    participant_id = int(path.split(\"_P\")[-1]) - 100\n",
    "    with open(f\"{path}/tag.csv\", \"r\") as f:\n",
    "        next(f)\n",
    "        tags = [line.strip().split(\",\", 1) for line in f]\n",
    "    tag_df = pd.DataFrame(tags, columns=[\"timestamp\", \"label\"])\n",
    "    tag_df[\"label\"] = tag_df[\"label\"].apply(lambda x: eval(x))\n",
    "    tag_df[\"timestamp\"] = pd.to_datetime(tag_df[\"timestamp\"].astype(float), unit=\"ms\").dt.tz_localize(\"CET\")\n",
    "    tag_data[participant_id] = tag_df"
   ]
  },
  {
   "cell_type": "code",
   "execution_count": 6,
   "metadata": {},
   "outputs": [
    {
     "data": {
      "application/vnd.microsoft.datawrangler.viewer.v0+json": {
       "columns": [
        {
         "name": "index",
         "rawType": "int64",
         "type": "integer"
        },
        {
         "name": "start_time",
         "rawType": "datetime64[ns, CET]",
         "type": "unknown"
        },
        {
         "name": "participant_id",
         "rawType": "int64",
         "type": "integer"
        },
        {
         "name": "puzzle_id",
         "rawType": "object",
         "type": "string"
        },
        {
         "name": "cognitive_load",
         "rawType": "int64",
         "type": "integer"
        },
        {
         "name": "end_time",
         "rawType": "datetime64[ns, CET]",
         "type": "unknown"
        },
        {
         "name": "skip",
         "rawType": "object",
         "type": "unknown"
        }
       ],
       "conversionMethod": "pd.DataFrame",
       "ref": "879b8fa3-3b79-46a7-85fa-98300caadc10",
       "rows": [
        [
         "0",
         "2025-01-29 13:05:43.529607910+01:00",
         "2",
         " 69",
         "1",
         "2025-01-29 13:11:02.531682129+01:00",
         "True"
        ],
        [
         "1",
         "2025-01-29 13:11:02.565684082+01:00",
         "2",
         " 58",
         "1",
         "2025-01-29 13:14:50.125843994+01:00",
         "False"
        ],
        [
         "2",
         "2025-01-29 13:14:50.204845947+01:00",
         "2",
         " 71",
         "1",
         "2025-01-29 13:20:07.283221924+01:00",
         "True"
        ],
        [
         "3",
         "2025-01-29 13:20:07.329221924+01:00",
         "2",
         " 62",
         "1",
         null,
         null
        ],
        [
         "4",
         "2025-01-29 13:22:50.784409912+01:00",
         "2",
         " 3",
         "0",
         "2025-01-29 13:23:17.594857910+01:00",
         "False"
        ]
       ],
       "shape": {
        "columns": 6,
        "rows": 5
       }
      },
      "text/html": [
       "<div>\n",
       "<style scoped>\n",
       "    .dataframe tbody tr th:only-of-type {\n",
       "        vertical-align: middle;\n",
       "    }\n",
       "\n",
       "    .dataframe tbody tr th {\n",
       "        vertical-align: top;\n",
       "    }\n",
       "\n",
       "    .dataframe thead th {\n",
       "        text-align: right;\n",
       "    }\n",
       "</style>\n",
       "<table border=\"1\" class=\"dataframe\">\n",
       "  <thead>\n",
       "    <tr style=\"text-align: right;\">\n",
       "      <th></th>\n",
       "      <th>start_time</th>\n",
       "      <th>participant_id</th>\n",
       "      <th>puzzle_id</th>\n",
       "      <th>cognitive_load</th>\n",
       "      <th>end_time</th>\n",
       "      <th>skip</th>\n",
       "    </tr>\n",
       "  </thead>\n",
       "  <tbody>\n",
       "    <tr>\n",
       "      <th>0</th>\n",
       "      <td>2025-01-29 13:05:43.529607910+01:00</td>\n",
       "      <td>2</td>\n",
       "      <td>69</td>\n",
       "      <td>1</td>\n",
       "      <td>2025-01-29 13:11:02.531682129+01:00</td>\n",
       "      <td>True</td>\n",
       "    </tr>\n",
       "    <tr>\n",
       "      <th>1</th>\n",
       "      <td>2025-01-29 13:11:02.565684082+01:00</td>\n",
       "      <td>2</td>\n",
       "      <td>58</td>\n",
       "      <td>1</td>\n",
       "      <td>2025-01-29 13:14:50.125843994+01:00</td>\n",
       "      <td>False</td>\n",
       "    </tr>\n",
       "    <tr>\n",
       "      <th>2</th>\n",
       "      <td>2025-01-29 13:14:50.204845947+01:00</td>\n",
       "      <td>2</td>\n",
       "      <td>71</td>\n",
       "      <td>1</td>\n",
       "      <td>2025-01-29 13:20:07.283221924+01:00</td>\n",
       "      <td>True</td>\n",
       "    </tr>\n",
       "    <tr>\n",
       "      <th>3</th>\n",
       "      <td>2025-01-29 13:20:07.329221924+01:00</td>\n",
       "      <td>2</td>\n",
       "      <td>62</td>\n",
       "      <td>1</td>\n",
       "      <td>NaT</td>\n",
       "      <td>NaN</td>\n",
       "    </tr>\n",
       "    <tr>\n",
       "      <th>4</th>\n",
       "      <td>2025-01-29 13:22:50.784409912+01:00</td>\n",
       "      <td>2</td>\n",
       "      <td>3</td>\n",
       "      <td>0</td>\n",
       "      <td>2025-01-29 13:23:17.594857910+01:00</td>\n",
       "      <td>False</td>\n",
       "    </tr>\n",
       "  </tbody>\n",
       "</table>\n",
       "</div>"
      ],
      "text/plain": [
       "                           start_time  participant_id puzzle_id  \\\n",
       "0 2025-01-29 13:05:43.529607910+01:00               2        69   \n",
       "1 2025-01-29 13:11:02.565684082+01:00               2        58   \n",
       "2 2025-01-29 13:14:50.204845947+01:00               2        71   \n",
       "3 2025-01-29 13:20:07.329221924+01:00               2        62   \n",
       "4 2025-01-29 13:22:50.784409912+01:00               2         3   \n",
       "\n",
       "   cognitive_load                            end_time   skip  \n",
       "0               1 2025-01-29 13:11:02.531682129+01:00   True  \n",
       "1               1 2025-01-29 13:14:50.125843994+01:00  False  \n",
       "2               1 2025-01-29 13:20:07.283221924+01:00   True  \n",
       "3               1                                 NaT    NaN  \n",
       "4               0 2025-01-29 13:23:17.594857910+01:00  False  "
      ]
     },
     "execution_count": 6,
     "metadata": {},
     "output_type": "execute_result"
    }
   ],
   "source": [
    "trial_df = pd.DataFrame()\n",
    "for participant_id in tag_data.keys():\n",
    "    tag_df = tag_data[participant_id]\n",
    "    tag_df[\"participant_id\"] = participant_id\n",
    "    tag_df[\"start_of_trial\"] = tag_df[\"label\"].apply(lambda label: label[\"start_of_trial\"])\n",
    "    tag_df[\"puzzle_id\"] = tag_df[\"label\"].apply(lambda label: label[\"puzzle_id\"])\n",
    "    tag_df[\"condition\"] = tag_df[\"label\"].apply(lambda label: label[\"condition\"])\n",
    "    tag_df[\"skip\"] = tag_df[\"label\"].apply(lambda label: label[\"skip\"])\n",
    "    tag_df[\"cognitive_load\"] = (tag_df[\"condition\"] == \"2\").astype(int)\n",
    "    tag_df[\"puzzle_id\"].unique()\n",
    "\n",
    "    start_df = tag_df.loc[\n",
    "        tag_df[\"start_of_trial\"] == True, [\"timestamp\", \"participant_id\", \"puzzle_id\", \"cognitive_load\"]\n",
    "    ].rename(columns={\"timestamp\": \"start_time\"})\n",
    "    end_df = tag_df.loc[\n",
    "        tag_df[\"start_of_trial\"] == False, [\"timestamp\", \"puzzle_id\", \"skip\"]\n",
    "    ].rename(columns={\"timestamp\": \"end_time\"})\n",
    "    trial_df_ = start_df.merge(end_df, on=[\"puzzle_id\"], how=\"left\")\n",
    "\n",
    "    if trial_df.empty:\n",
    "        trial_df = trial_df_\n",
    "    else:\n",
    "        trial_df = pd.concat([trial_df, trial_df_], ignore_index=True)\n",
    "\n",
    "trial_df.head()"
   ]
  },
  {
   "cell_type": "markdown",
   "metadata": {},
   "source": [
    "## Feature engineering"
   ]
  },
  {
   "cell_type": "code",
   "execution_count": 49,
   "metadata": {},
   "outputs": [],
   "source": [
    "batch_index = pd.read_pickle(\"../data/working/batch_index.pkl\")"
   ]
  },
  {
   "cell_type": "code",
   "execution_count": 175,
   "metadata": {},
   "outputs": [
    {
     "name": "stdout",
     "output_type": "stream",
     "text": [
      "Participant: 21, Cognitive Load: 0, Batch ID: 27487\n"
     ]
    },
    {
     "data": {
      "application/vnd.microsoft.datawrangler.viewer.v0+json": {
       "columns": [
        {
         "name": "index",
         "rawType": "int64",
         "type": "integer"
        },
        {
         "name": "batch_id",
         "rawType": "int64",
         "type": "integer"
        },
        {
         "name": "timestamp",
         "rawType": "datetime64[ns, CET]",
         "type": "unknown"
        },
        {
         "name": "origin_x",
         "rawType": "float64",
         "type": "float"
        },
        {
         "name": "origin_y",
         "rawType": "float64",
         "type": "float"
        },
        {
         "name": "origin_z",
         "rawType": "float64",
         "type": "float"
        },
        {
         "name": "direction_x",
         "rawType": "float64",
         "type": "float"
        },
        {
         "name": "direction_y",
         "rawType": "float64",
         "type": "float"
        },
        {
         "name": "direction_z",
         "rawType": "float64",
         "type": "float"
        }
       ],
       "conversionMethod": "pd.DataFrame",
       "ref": "bc3bc5a7-7ff0-4c18-876b-2d0565853d3a",
       "rows": [
        [
         "17222",
         "27487",
         "2025-02-10 15:00:37.120373047+01:00",
         "-0.014423783",
         "0.030307118",
         "-0.031665478",
         "-0.006494075",
         "-0.61403024",
         "-0.78925854"
        ],
        [
         "17223",
         "27487",
         "2025-02-10 15:00:37.167562988+01:00",
         "-0.024306564",
         "0.028124265",
         "-0.03474265",
         "0.0007602869",
         "-0.61591655",
         "-0.7878131"
        ],
        [
         "17224",
         "27487",
         "2025-02-10 15:00:37.214227051+01:00",
         "-0.026588343",
         "0.02667368",
         "-0.036623593",
         "-0.0017266686",
         "-0.62152374",
         "-0.7833958"
        ],
        [
         "17225",
         "27487",
         "2025-02-10 15:00:37.261848877+01:00",
         "-0.02660475",
         "0.025160884",
         "-0.038264286",
         "-0.011404873",
         "-0.62689567",
         "-0.7790224"
        ],
        [
         "17226",
         "27487",
         "2025-02-10 15:00:37.308983154+01:00",
         "-0.025289537",
         "0.023195196",
         "-0.039774545",
         "-0.0991359",
         "-0.6564588",
         "-0.7478219"
        ]
       ],
       "shape": {
        "columns": 8,
        "rows": 5
       }
      },
      "text/html": [
       "<div>\n",
       "<style scoped>\n",
       "    .dataframe tbody tr th:only-of-type {\n",
       "        vertical-align: middle;\n",
       "    }\n",
       "\n",
       "    .dataframe tbody tr th {\n",
       "        vertical-align: top;\n",
       "    }\n",
       "\n",
       "    .dataframe thead th {\n",
       "        text-align: right;\n",
       "    }\n",
       "</style>\n",
       "<table border=\"1\" class=\"dataframe\">\n",
       "  <thead>\n",
       "    <tr style=\"text-align: right;\">\n",
       "      <th></th>\n",
       "      <th>batch_id</th>\n",
       "      <th>timestamp</th>\n",
       "      <th>origin_x</th>\n",
       "      <th>origin_y</th>\n",
       "      <th>origin_z</th>\n",
       "      <th>direction_x</th>\n",
       "      <th>direction_y</th>\n",
       "      <th>direction_z</th>\n",
       "    </tr>\n",
       "  </thead>\n",
       "  <tbody>\n",
       "    <tr>\n",
       "      <th>17222</th>\n",
       "      <td>27487</td>\n",
       "      <td>2025-02-10 15:00:37.120373047+01:00</td>\n",
       "      <td>-0.014424</td>\n",
       "      <td>0.030307</td>\n",
       "      <td>-0.031665</td>\n",
       "      <td>-0.006494</td>\n",
       "      <td>-0.614030</td>\n",
       "      <td>-0.789259</td>\n",
       "    </tr>\n",
       "    <tr>\n",
       "      <th>17223</th>\n",
       "      <td>27487</td>\n",
       "      <td>2025-02-10 15:00:37.167562988+01:00</td>\n",
       "      <td>-0.024307</td>\n",
       "      <td>0.028124</td>\n",
       "      <td>-0.034743</td>\n",
       "      <td>0.000760</td>\n",
       "      <td>-0.615917</td>\n",
       "      <td>-0.787813</td>\n",
       "    </tr>\n",
       "    <tr>\n",
       "      <th>17224</th>\n",
       "      <td>27487</td>\n",
       "      <td>2025-02-10 15:00:37.214227051+01:00</td>\n",
       "      <td>-0.026588</td>\n",
       "      <td>0.026674</td>\n",
       "      <td>-0.036624</td>\n",
       "      <td>-0.001727</td>\n",
       "      <td>-0.621524</td>\n",
       "      <td>-0.783396</td>\n",
       "    </tr>\n",
       "    <tr>\n",
       "      <th>17225</th>\n",
       "      <td>27487</td>\n",
       "      <td>2025-02-10 15:00:37.261848877+01:00</td>\n",
       "      <td>-0.026605</td>\n",
       "      <td>0.025161</td>\n",
       "      <td>-0.038264</td>\n",
       "      <td>-0.011405</td>\n",
       "      <td>-0.626896</td>\n",
       "      <td>-0.779022</td>\n",
       "    </tr>\n",
       "    <tr>\n",
       "      <th>17226</th>\n",
       "      <td>27487</td>\n",
       "      <td>2025-02-10 15:00:37.308983154+01:00</td>\n",
       "      <td>-0.025290</td>\n",
       "      <td>0.023195</td>\n",
       "      <td>-0.039775</td>\n",
       "      <td>-0.099136</td>\n",
       "      <td>-0.656459</td>\n",
       "      <td>-0.747822</td>\n",
       "    </tr>\n",
       "  </tbody>\n",
       "</table>\n",
       "</div>"
      ],
      "text/plain": [
       "       batch_id                           timestamp  origin_x  origin_y  \\\n",
       "17222     27487 2025-02-10 15:00:37.120373047+01:00 -0.014424  0.030307   \n",
       "17223     27487 2025-02-10 15:00:37.167562988+01:00 -0.024307  0.028124   \n",
       "17224     27487 2025-02-10 15:00:37.214227051+01:00 -0.026588  0.026674   \n",
       "17225     27487 2025-02-10 15:00:37.261848877+01:00 -0.026605  0.025161   \n",
       "17226     27487 2025-02-10 15:00:37.308983154+01:00 -0.025290  0.023195   \n",
       "\n",
       "       origin_z  direction_x  direction_y  direction_z  \n",
       "17222 -0.031665    -0.006494    -0.614030    -0.789259  \n",
       "17223 -0.034743     0.000760    -0.615917    -0.787813  \n",
       "17224 -0.036624    -0.001727    -0.621524    -0.783396  \n",
       "17225 -0.038264    -0.011405    -0.626896    -0.779022  \n",
       "17226 -0.039775    -0.099136    -0.656459    -0.747822  "
      ]
     },
     "execution_count": 175,
     "metadata": {},
     "output_type": "execute_result"
    }
   ],
   "source": [
    "def test_window(sensor, cognitive_load=None, randomize=True, participant_id=None, batch_id=None):\n",
    "    \"\"\"For debugging. Remember to create a batch index first.\"\"\"\n",
    "    if not batch_id:\n",
    "        if not cognitive_load:\n",
    "            cognitive_load = np.random.choice([0, 1])\n",
    "        if participant_id:\n",
    "            batch_subset = batch_index.loc[\n",
    "                (batch_index[\"participant_id\"] == participant_id)\n",
    "                & (batch_index[\"cognitive_load\"] == cognitive_load)\n",
    "            ]\n",
    "        else:\n",
    "            batch_subset = batch_index.loc[batch_index[\"cognitive_load\"] == cognitive_load]\n",
    "        if randomize:\n",
    "            batch = batch_subset.sample(1).iloc[0]\n",
    "        else:\n",
    "            batch = batch_subset.iloc[0]\n",
    "    else:\n",
    "        batch = batch_index.loc[batch_index[\"batch_id\"] == batch_id].iloc[0]\n",
    "    start_time, end_time = batch[[\"start_time\", \"end_time\"]]\n",
    "    participant_id = batch[\"participant_id\"]\n",
    "    cognitive_load = batch[\"cognitive_load\"]\n",
    "    window_df = participant_data[participant_id][sensor]\n",
    "    window_df = window_df.loc[\n",
    "        (window_df[\"timestamp\"] >= start_time) & (window_df[\"timestamp\"] <= end_time)\n",
    "    ].copy()\n",
    "    window_df.insert(0, \"batch_id\", batch[\"batch_id\"])\n",
    "    print(f\"Participant: {participant_id}, Cognitive Load: {cognitive_load}, Batch ID: {batch[\"batch_id\"]}\")\n",
    "    return window_df\n",
    "\n",
    "test_window(\"eye_ray\").head()"
   ]
  },
  {
   "cell_type": "code",
   "execution_count": 8,
   "metadata": {},
   "outputs": [],
   "source": [
    "def calculate_features_for_sensor(sensor, window_df):\n",
    "    feature_series = pd.Series()\n",
    "    for column in window_df.columns:\n",
    "        if not re.match(\".*(w|x|y|z)\", column):\n",
    "            feature_series[f\"{sensor}_{column}_mean\"] = window_df[column].mean()\n",
    "            feature_series[f\"{sensor}_{column}_median\"] = window_df[column].median()\n",
    "            feature_series[f\"{sensor}_{column}_std\"] = window_df[column].std()\n",
    "            feature_series[f\"{sensor}_{column}_min\"] = window_df[column].min()\n",
    "            feature_series[f\"{sensor}_{column}_max\"] = window_df[column].max()\n",
    "            feature_series[f\"{sensor}_{column}_sum_abs_diff\"] = window_df[column].diff().abs().sum()\n",
    "    return feature_series"
   ]
  },
  {
   "cell_type": "markdown",
   "metadata": {},
   "source": [
    "### HoloLens"
   ]
  },
  {
   "cell_type": "markdown",
   "metadata": {},
   "source": [
    "#### Eye ray"
   ]
  },
  {
   "cell_type": "code",
   "execution_count": 156,
   "metadata": {},
   "outputs": [
    {
     "name": "stdout",
     "output_type": "stream",
     "text": [
      "Participant: 19, Cognitive Load: 1, Batch ID: 25428\n"
     ]
    },
    {
     "data": {
      "text/plain": [
       "fixation_duration_mean            1.028277\n",
       "fixation_duration_median          0.755569\n",
       "fixation_duration_std             0.908567\n",
       "fixation_duration_min             0.284248\n",
       "fixation_duration_max             3.066082\n",
       "fixation_duration_sum_abs_diff    9.437837\n",
       "fixation_distance_mean            0.087033\n",
       "fixation_distance_median          0.084161\n",
       "fixation_distance_std             0.039700\n",
       "fixation_distance_min             0.036136\n",
       "fixation_distance_max             0.148847\n",
       "fixation_distance_sum_abs_diff    0.306649\n",
       "fixation_speed_mean               0.157473\n",
       "fixation_speed_median             0.120041\n",
       "fixation_speed_std                0.120437\n",
       "fixation_speed_min                0.011786\n",
       "fixation_speed_max                0.385013\n",
       "fixation_speed_sum_abs_diff       0.956766\n",
       "dtype: float64"
      ]
     },
     "execution_count": 156,
     "metadata": {},
     "output_type": "execute_result"
    }
   ],
   "source": [
    "def process_eye_ray(window_df):\n",
    "    fixation_df = extract_fixations(\n",
    "        window_df.dropna()\n",
    "    )\n",
    "    if fixation_df.empty:\n",
    "        return pd.Series()\n",
    "    fixation_df[\"duration\"] = (fixation_df[\"end\"] - fixation_df[\"start\"]).dt.total_seconds()\n",
    "    fixation_df[\"distance\"] = np.sqrt(fixation_df[\"x\"].diff() ** 2 + fixation_df[\"y\"].diff() ** 2 + fixation_df[\"z\"].diff() ** 2)\n",
    "    fixation_df[\"speed\"] = fixation_df[\"distance\"] / fixation_df[\"duration\"]\n",
    "    features = calculate_features_for_sensor(\"fixation\", fixation_df[[\"duration\", \"distance\", \"speed\"]])\n",
    "    return features\n",
    "\n",
    "process_eye_ray(test_window(\"eye_ray\"))"
   ]
  },
  {
   "cell_type": "code",
   "execution_count": null,
   "metadata": {},
   "outputs": [
    {
     "name": "stderr",
     "output_type": "stream",
     "text": [
      "c:\\Users\\melo\\Projects\\tangram-cognitive-load\\.venv\\Lib\\site-packages\\numpy\\lib\\_nanfunctions_impl.py:1215: RuntimeWarning: Mean of empty slice\n",
      "  return np.nanmean(a, axis, out=out, keepdims=keepdims)\n",
      "c:\\Users\\melo\\Projects\\tangram-cognitive-load\\.venv\\Lib\\site-packages\\numpy\\lib\\_nanfunctions_impl.py:1215: RuntimeWarning: Mean of empty slice\n",
      "  return np.nanmean(a, axis, out=out, keepdims=keepdims)\n",
      "c:\\Users\\melo\\Projects\\tangram-cognitive-load\\.venv\\Lib\\site-packages\\numpy\\lib\\_nanfunctions_impl.py:1215: RuntimeWarning: Mean of empty slice\n",
      "  return np.nanmean(a, axis, out=out, keepdims=keepdims)\n",
      "c:\\Users\\melo\\Projects\\tangram-cognitive-load\\.venv\\Lib\\site-packages\\numpy\\lib\\_nanfunctions_impl.py:1215: RuntimeWarning: Mean of empty slice\n",
      "  return np.nanmean(a, axis, out=out, keepdims=keepdims)\n",
      "c:\\Users\\melo\\Projects\\tangram-cognitive-load\\.venv\\Lib\\site-packages\\numpy\\lib\\_nanfunctions_impl.py:1215: RuntimeWarning: Mean of empty slice\n",
      "  return np.nanmean(a, axis, out=out, keepdims=keepdims)\n",
      "c:\\Users\\melo\\Projects\\tangram-cognitive-load\\.venv\\Lib\\site-packages\\numpy\\lib\\_nanfunctions_impl.py:1215: RuntimeWarning: Mean of empty slice\n",
      "  return np.nanmean(a, axis, out=out, keepdims=keepdims)\n",
      "c:\\Users\\melo\\Projects\\tangram-cognitive-load\\.venv\\Lib\\site-packages\\numpy\\lib\\_nanfunctions_impl.py:1215: RuntimeWarning: Mean of empty slice\n",
      "  return np.nanmean(a, axis, out=out, keepdims=keepdims)\n",
      "c:\\Users\\melo\\Projects\\tangram-cognitive-load\\.venv\\Lib\\site-packages\\numpy\\lib\\_nanfunctions_impl.py:1215: RuntimeWarning: Mean of empty slice\n",
      "  return np.nanmean(a, axis, out=out, keepdims=keepdims)\n",
      "c:\\Users\\melo\\Projects\\tangram-cognitive-load\\.venv\\Lib\\site-packages\\numpy\\lib\\_nanfunctions_impl.py:1215: RuntimeWarning: Mean of empty slice\n",
      "  return np.nanmean(a, axis, out=out, keepdims=keepdims)\n",
      "c:\\Users\\melo\\Projects\\tangram-cognitive-load\\.venv\\Lib\\site-packages\\numpy\\lib\\_nanfunctions_impl.py:1215: RuntimeWarning: Mean of empty slice\n",
      "  return np.nanmean(a, axis, out=out, keepdims=keepdims)\n",
      "c:\\Users\\melo\\Projects\\tangram-cognitive-load\\.venv\\Lib\\site-packages\\numpy\\lib\\_nanfunctions_impl.py:1215: RuntimeWarning: Mean of empty slice\n",
      "  return np.nanmean(a, axis, out=out, keepdims=keepdims)\n",
      "c:\\Users\\melo\\Projects\\tangram-cognitive-load\\.venv\\Lib\\site-packages\\numpy\\lib\\_nanfunctions_impl.py:1215: RuntimeWarning: Mean of empty slice\n",
      "  return np.nanmean(a, axis, out=out, keepdims=keepdims)\n",
      "c:\\Users\\melo\\Projects\\tangram-cognitive-load\\.venv\\Lib\\site-packages\\numpy\\lib\\_nanfunctions_impl.py:1215: RuntimeWarning: Mean of empty slice\n",
      "  return np.nanmean(a, axis, out=out, keepdims=keepdims)\n",
      "c:\\Users\\melo\\Projects\\tangram-cognitive-load\\.venv\\Lib\\site-packages\\numpy\\lib\\_nanfunctions_impl.py:1215: RuntimeWarning: Mean of empty slice\n",
      "  return np.nanmean(a, axis, out=out, keepdims=keepdims)\n",
      "c:\\Users\\melo\\Projects\\tangram-cognitive-load\\.venv\\Lib\\site-packages\\numpy\\lib\\_nanfunctions_impl.py:1215: RuntimeWarning: Mean of empty slice\n",
      "  return np.nanmean(a, axis, out=out, keepdims=keepdims)\n",
      "c:\\Users\\melo\\Projects\\tangram-cognitive-load\\.venv\\Lib\\site-packages\\numpy\\lib\\_nanfunctions_impl.py:1215: RuntimeWarning: Mean of empty slice\n",
      "  return np.nanmean(a, axis, out=out, keepdims=keepdims)\n",
      "c:\\Users\\melo\\Projects\\tangram-cognitive-load\\.venv\\Lib\\site-packages\\numpy\\lib\\_nanfunctions_impl.py:1215: RuntimeWarning: Mean of empty slice\n",
      "  return np.nanmean(a, axis, out=out, keepdims=keepdims)\n",
      "c:\\Users\\melo\\Projects\\tangram-cognitive-load\\.venv\\Lib\\site-packages\\numpy\\lib\\_nanfunctions_impl.py:1215: RuntimeWarning: Mean of empty slice\n",
      "  return np.nanmean(a, axis, out=out, keepdims=keepdims)\n",
      "c:\\Users\\melo\\Projects\\tangram-cognitive-load\\.venv\\Lib\\site-packages\\numpy\\lib\\_nanfunctions_impl.py:1215: RuntimeWarning: Mean of empty slice\n",
      "  return np.nanmean(a, axis, out=out, keepdims=keepdims)\n",
      "c:\\Users\\melo\\Projects\\tangram-cognitive-load\\.venv\\Lib\\site-packages\\numpy\\lib\\_nanfunctions_impl.py:1215: RuntimeWarning: Mean of empty slice\n",
      "  return np.nanmean(a, axis, out=out, keepdims=keepdims)\n",
      "c:\\Users\\melo\\Projects\\tangram-cognitive-load\\.venv\\Lib\\site-packages\\numpy\\lib\\_nanfunctions_impl.py:1215: RuntimeWarning: Mean of empty slice\n",
      "  return np.nanmean(a, axis, out=out, keepdims=keepdims)\n",
      "c:\\Users\\melo\\Projects\\tangram-cognitive-load\\.venv\\Lib\\site-packages\\numpy\\lib\\_nanfunctions_impl.py:1215: RuntimeWarning: Mean of empty slice\n",
      "  return np.nanmean(a, axis, out=out, keepdims=keepdims)\n",
      "c:\\Users\\melo\\Projects\\tangram-cognitive-load\\.venv\\Lib\\site-packages\\numpy\\lib\\_nanfunctions_impl.py:1215: RuntimeWarning: Mean of empty slice\n",
      "  return np.nanmean(a, axis, out=out, keepdims=keepdims)\n",
      "c:\\Users\\melo\\Projects\\tangram-cognitive-load\\.venv\\Lib\\site-packages\\numpy\\lib\\_nanfunctions_impl.py:1215: RuntimeWarning: Mean of empty slice\n",
      "  return np.nanmean(a, axis, out=out, keepdims=keepdims)\n",
      "c:\\Users\\melo\\Projects\\tangram-cognitive-load\\.venv\\Lib\\site-packages\\numpy\\lib\\_nanfunctions_impl.py:1215: RuntimeWarning: Mean of empty slice\n",
      "  return np.nanmean(a, axis, out=out, keepdims=keepdims)\n",
      "c:\\Users\\melo\\Projects\\tangram-cognitive-load\\.venv\\Lib\\site-packages\\numpy\\lib\\_nanfunctions_impl.py:1215: RuntimeWarning: Mean of empty slice\n",
      "  return np.nanmean(a, axis, out=out, keepdims=keepdims)\n",
      "c:\\Users\\melo\\Projects\\tangram-cognitive-load\\.venv\\Lib\\site-packages\\numpy\\lib\\_nanfunctions_impl.py:1215: RuntimeWarning: Mean of empty slice\n",
      "  return np.nanmean(a, axis, out=out, keepdims=keepdims)\n",
      "c:\\Users\\melo\\Projects\\tangram-cognitive-load\\.venv\\Lib\\site-packages\\numpy\\lib\\_nanfunctions_impl.py:1215: RuntimeWarning: Mean of empty slice\n",
      "  return np.nanmean(a, axis, out=out, keepdims=keepdims)\n",
      "c:\\Users\\melo\\Projects\\tangram-cognitive-load\\.venv\\Lib\\site-packages\\numpy\\lib\\_nanfunctions_impl.py:1215: RuntimeWarning: Mean of empty slice\n",
      "  return np.nanmean(a, axis, out=out, keepdims=keepdims)\n",
      "c:\\Users\\melo\\Projects\\tangram-cognitive-load\\.venv\\Lib\\site-packages\\numpy\\lib\\_nanfunctions_impl.py:1215: RuntimeWarning: Mean of empty slice\n",
      "  return np.nanmean(a, axis, out=out, keepdims=keepdims)\n",
      "c:\\Users\\melo\\Projects\\tangram-cognitive-load\\.venv\\Lib\\site-packages\\numpy\\lib\\_nanfunctions_impl.py:1215: RuntimeWarning: Mean of empty slice\n",
      "  return np.nanmean(a, axis, out=out, keepdims=keepdims)\n",
      "c:\\Users\\melo\\Projects\\tangram-cognitive-load\\.venv\\Lib\\site-packages\\numpy\\lib\\_nanfunctions_impl.py:1215: RuntimeWarning: Mean of empty slice\n",
      "  return np.nanmean(a, axis, out=out, keepdims=keepdims)\n",
      "c:\\Users\\melo\\Projects\\tangram-cognitive-load\\.venv\\Lib\\site-packages\\numpy\\lib\\_nanfunctions_impl.py:1215: RuntimeWarning: Mean of empty slice\n",
      "  return np.nanmean(a, axis, out=out, keepdims=keepdims)\n",
      "c:\\Users\\melo\\Projects\\tangram-cognitive-load\\.venv\\Lib\\site-packages\\numpy\\lib\\_nanfunctions_impl.py:1215: RuntimeWarning: Mean of empty slice\n",
      "  return np.nanmean(a, axis, out=out, keepdims=keepdims)\n",
      "c:\\Users\\melo\\Projects\\tangram-cognitive-load\\.venv\\Lib\\site-packages\\numpy\\lib\\_nanfunctions_impl.py:1215: RuntimeWarning: Mean of empty slice\n",
      "  return np.nanmean(a, axis, out=out, keepdims=keepdims)\n",
      "c:\\Users\\melo\\Projects\\tangram-cognitive-load\\.venv\\Lib\\site-packages\\numpy\\lib\\_nanfunctions_impl.py:1215: RuntimeWarning: Mean of empty slice\n",
      "  return np.nanmean(a, axis, out=out, keepdims=keepdims)\n",
      "c:\\Users\\melo\\Projects\\tangram-cognitive-load\\.venv\\Lib\\site-packages\\numpy\\lib\\_nanfunctions_impl.py:1215: RuntimeWarning: Mean of empty slice\n",
      "  return np.nanmean(a, axis, out=out, keepdims=keepdims)\n",
      "c:\\Users\\melo\\Projects\\tangram-cognitive-load\\.venv\\Lib\\site-packages\\numpy\\lib\\_nanfunctions_impl.py:1215: RuntimeWarning: Mean of empty slice\n",
      "  return np.nanmean(a, axis, out=out, keepdims=keepdims)\n",
      "c:\\Users\\melo\\Projects\\tangram-cognitive-load\\.venv\\Lib\\site-packages\\numpy\\lib\\_nanfunctions_impl.py:1215: RuntimeWarning: Mean of empty slice\n",
      "  return np.nanmean(a, axis, out=out, keepdims=keepdims)\n",
      "c:\\Users\\melo\\Projects\\tangram-cognitive-load\\.venv\\Lib\\site-packages\\numpy\\lib\\_nanfunctions_impl.py:1215: RuntimeWarning: Mean of empty slice\n",
      "  return np.nanmean(a, axis, out=out, keepdims=keepdims)\n",
      "c:\\Users\\melo\\Projects\\tangram-cognitive-load\\.venv\\Lib\\site-packages\\numpy\\lib\\_nanfunctions_impl.py:1215: RuntimeWarning: Mean of empty slice\n",
      "  return np.nanmean(a, axis, out=out, keepdims=keepdims)\n",
      "c:\\Users\\melo\\Projects\\tangram-cognitive-load\\.venv\\Lib\\site-packages\\numpy\\lib\\_nanfunctions_impl.py:1215: RuntimeWarning: Mean of empty slice\n",
      "  return np.nanmean(a, axis, out=out, keepdims=keepdims)\n",
      "c:\\Users\\melo\\Projects\\tangram-cognitive-load\\.venv\\Lib\\site-packages\\numpy\\lib\\_nanfunctions_impl.py:1215: RuntimeWarning: Mean of empty slice\n",
      "  return np.nanmean(a, axis, out=out, keepdims=keepdims)\n",
      "c:\\Users\\melo\\Projects\\tangram-cognitive-load\\.venv\\Lib\\site-packages\\numpy\\lib\\_nanfunctions_impl.py:1215: RuntimeWarning: Mean of empty slice\n",
      "  return np.nanmean(a, axis, out=out, keepdims=keepdims)\n",
      "c:\\Users\\melo\\Projects\\tangram-cognitive-load\\.venv\\Lib\\site-packages\\numpy\\lib\\_nanfunctions_impl.py:1215: RuntimeWarning: Mean of empty slice\n",
      "  return np.nanmean(a, axis, out=out, keepdims=keepdims)\n",
      "c:\\Users\\melo\\Projects\\tangram-cognitive-load\\.venv\\Lib\\site-packages\\numpy\\lib\\_nanfunctions_impl.py:1215: RuntimeWarning: Mean of empty slice\n",
      "  return np.nanmean(a, axis, out=out, keepdims=keepdims)\n",
      "c:\\Users\\melo\\Projects\\tangram-cognitive-load\\.venv\\Lib\\site-packages\\numpy\\lib\\_nanfunctions_impl.py:1215: RuntimeWarning: Mean of empty slice\n",
      "  return np.nanmean(a, axis, out=out, keepdims=keepdims)\n",
      "c:\\Users\\melo\\Projects\\tangram-cognitive-load\\.venv\\Lib\\site-packages\\numpy\\lib\\_nanfunctions_impl.py:1215: RuntimeWarning: Mean of empty slice\n",
      "  return np.nanmean(a, axis, out=out, keepdims=keepdims)\n",
      "c:\\Users\\melo\\Projects\\tangram-cognitive-load\\.venv\\Lib\\site-packages\\numpy\\lib\\_nanfunctions_impl.py:1215: RuntimeWarning: Mean of empty slice\n",
      "  return np.nanmean(a, axis, out=out, keepdims=keepdims)\n",
      "c:\\Users\\melo\\Projects\\tangram-cognitive-load\\.venv\\Lib\\site-packages\\numpy\\lib\\_nanfunctions_impl.py:1215: RuntimeWarning: Mean of empty slice\n",
      "  return np.nanmean(a, axis, out=out, keepdims=keepdims)\n",
      "c:\\Users\\melo\\Projects\\tangram-cognitive-load\\.venv\\Lib\\site-packages\\numpy\\lib\\_nanfunctions_impl.py:1215: RuntimeWarning: Mean of empty slice\n",
      "  return np.nanmean(a, axis, out=out, keepdims=keepdims)\n",
      "c:\\Users\\melo\\Projects\\tangram-cognitive-load\\.venv\\Lib\\site-packages\\numpy\\lib\\_nanfunctions_impl.py:1215: RuntimeWarning: Mean of empty slice\n",
      "  return np.nanmean(a, axis, out=out, keepdims=keepdims)\n",
      "c:\\Users\\melo\\Projects\\tangram-cognitive-load\\.venv\\Lib\\site-packages\\numpy\\lib\\_nanfunctions_impl.py:1215: RuntimeWarning: Mean of empty slice\n",
      "  return np.nanmean(a, axis, out=out, keepdims=keepdims)\n",
      "c:\\Users\\melo\\Projects\\tangram-cognitive-load\\.venv\\Lib\\site-packages\\numpy\\lib\\_nanfunctions_impl.py:1215: RuntimeWarning: Mean of empty slice\n",
      "  return np.nanmean(a, axis, out=out, keepdims=keepdims)\n",
      "c:\\Users\\melo\\Projects\\tangram-cognitive-load\\.venv\\Lib\\site-packages\\numpy\\lib\\_nanfunctions_impl.py:1215: RuntimeWarning: Mean of empty slice\n",
      "  return np.nanmean(a, axis, out=out, keepdims=keepdims)\n",
      "c:\\Users\\melo\\Projects\\tangram-cognitive-load\\.venv\\Lib\\site-packages\\numpy\\lib\\_nanfunctions_impl.py:1215: RuntimeWarning: Mean of empty slice\n",
      "  return np.nanmean(a, axis, out=out, keepdims=keepdims)\n",
      "c:\\Users\\melo\\Projects\\tangram-cognitive-load\\.venv\\Lib\\site-packages\\numpy\\lib\\_nanfunctions_impl.py:1215: RuntimeWarning: Mean of empty slice\n",
      "  return np.nanmean(a, axis, out=out, keepdims=keepdims)\n",
      "c:\\Users\\melo\\Projects\\tangram-cognitive-load\\.venv\\Lib\\site-packages\\numpy\\lib\\_nanfunctions_impl.py:1215: RuntimeWarning: Mean of empty slice\n",
      "  return np.nanmean(a, axis, out=out, keepdims=keepdims)\n",
      "c:\\Users\\melo\\Projects\\tangram-cognitive-load\\.venv\\Lib\\site-packages\\numpy\\lib\\_nanfunctions_impl.py:1215: RuntimeWarning: Mean of empty slice\n",
      "  return np.nanmean(a, axis, out=out, keepdims=keepdims)\n",
      "c:\\Users\\melo\\Projects\\tangram-cognitive-load\\.venv\\Lib\\site-packages\\numpy\\lib\\_nanfunctions_impl.py:1215: RuntimeWarning: Mean of empty slice\n",
      "  return np.nanmean(a, axis, out=out, keepdims=keepdims)\n",
      "c:\\Users\\melo\\Projects\\tangram-cognitive-load\\.venv\\Lib\\site-packages\\numpy\\lib\\_nanfunctions_impl.py:1215: RuntimeWarning: Mean of empty slice\n",
      "  return np.nanmean(a, axis, out=out, keepdims=keepdims)\n",
      "c:\\Users\\melo\\Projects\\tangram-cognitive-load\\.venv\\Lib\\site-packages\\numpy\\lib\\_nanfunctions_impl.py:1215: RuntimeWarning: Mean of empty slice\n",
      "  return np.nanmean(a, axis, out=out, keepdims=keepdims)\n",
      "c:\\Users\\melo\\Projects\\tangram-cognitive-load\\.venv\\Lib\\site-packages\\numpy\\lib\\_nanfunctions_impl.py:1215: RuntimeWarning: Mean of empty slice\n",
      "  return np.nanmean(a, axis, out=out, keepdims=keepdims)\n",
      "c:\\Users\\melo\\Projects\\tangram-cognitive-load\\.venv\\Lib\\site-packages\\numpy\\lib\\_nanfunctions_impl.py:1215: RuntimeWarning: Mean of empty slice\n",
      "  return np.nanmean(a, axis, out=out, keepdims=keepdims)\n"
     ]
    },
    {
     "name": "stdout",
     "output_type": "stream",
     "text": [
      "(32097, 18)\n"
     ]
    }
   ],
   "source": [
    "feature_list = []\n",
    "for id, batch in batch_index.iterrows():\n",
    "    window_df = participant_data[batch[\"participant_id\"]][\"eye_ray\"]\n",
    "    window_df = window_df.loc[\n",
    "        (window_df[\"timestamp\"] >= batch[\"start_time\"]) & (window_df[\"timestamp\"] <= batch[\"end_time\"])\n",
    "    ]\n",
    "    features = process_eye_ray(window_df)\n",
    "    feature_list.append(features)\n",
    "eye_ray_features = pd.DataFrame(feature_list).dropna()\n",
    "eye_ray_features.to_pickle(\"../data/working/eye_ray_features.pkl\")"
   ]
  },
  {
   "cell_type": "markdown",
   "metadata": {},
   "source": [
    "#### Hand pose"
   ]
  },
  {
   "cell_type": "code",
   "execution_count": 207,
   "metadata": {},
   "outputs": [
    {
     "name": "stdout",
     "output_type": "stream",
     "text": [
      "Participant: 17, Cognitive Load: 0, Batch ID: 22220\n",
      "Participant: 17, Cognitive Load: 0, Batch ID: 22220\n"
     ]
    }
   ],
   "source": [
    "def angular_distance(quaternion_df):\n",
    "    dot_product = np.abs(\n",
    "        np.sum(\n",
    "            quaternion_df.values * quaternion_df.shift(1).values,\n",
    "            axis=1,\n",
    "        )\n",
    "    )  # absolute value to avoid wrap-around issues\n",
    "    dot_product = np.clip(dot_product, 0, 1) # avoid numerical errors\n",
    "    angular_distances = 2 * np.arccos(dot_product)\n",
    "    return angular_distances\n",
    "\n",
    "def process_hand_pose(window_df, eye_ray_window_df):\n",
    "    window_df = window_df.copy()\n",
    "    mid_line = eye_ray_window_df.copy()\n",
    "    for hand in [\"left\", \"right\"]:\n",
    "        quaternion_df = window_df[\n",
    "            [\n",
    "                f\"{hand}_orientation_x\",\n",
    "                f\"{hand}_orientation_y\",\n",
    "                f\"{hand}_orientation_z\",\n",
    "                f\"{hand}_orientation_w\",\n",
    "            ]\n",
    "        ]\n",
    "        window_df[f\"{hand}_hand_angular_distance\"] = angular_distance(\n",
    "            quaternion_df\n",
    "        )\n",
    "        window_df[f\"{hand}_position_change\"] = np.linalg.norm(\n",
    "            window_df[[f\"{hand}_position_x\", f\"{hand}_position_y\", f\"{hand}_position_z\"]]\n",
    "            .diff(axis=0)\n",
    "            .values,\n",
    "            axis=1,\n",
    "        )\n",
    "    # features = calculate_features_for_sensor(\"hand\", fixation_df[[\"duration\", \"distance\", \"speed\"]])\n",
    "    return window_df\n",
    "\n",
    "def get_midline(eye_ray_window_df):\n",
    "    origin = eye_ray_window_df[[\"origin_x\", \"origin_z\"]].mean()\n",
    "    direction = eye_ray_window_df[[\"direction_x\", \"direction_z\"]].mean()\n",
    "    return origin, direction\n",
    "\n",
    "while True:\n",
    "    hand_window_df = test_window(\"hand_pose\")\n",
    "    if hand_window_df.empty:\n",
    "        print(\"Skipping empty hand window.\")\n",
    "        continue\n",
    "    batch_id = hand_window_df[\"batch_id\"].iloc[0]\n",
    "    eye_ray_window_df = test_window(\"eye_ray\", batch_id=batch_id)\n",
    "    break\n",
    "\n",
    "# process_hand_pose(hand_window_df, eye_ray_window_df) # TODO: test with empty hand/eye window\n",
    "origin, direction = get_midline(eye_ray_window_df)"
   ]
  },
  {
   "cell_type": "code",
   "execution_count": 208,
   "metadata": {},
   "outputs": [
    {
     "data": {
      "image/png": "[encoded data removed]",
      "text/plain": [
       "<Figure size 640x480 with 1 Axes>"
      ]
     },
     "metadata": {},
     "output_type": "display_data"
    }
   ],
   "source": [
    "def plot_hand_pose(window_df):\n",
    "    fig = plt.figure()\n",
    "    ax = fig.add_subplot(111, projection='3d')\n",
    "    for hand in [\"left\", \"right\"]:\n",
    "        ax.plot(\n",
    "            window_df[f\"{hand}_position_x\"],\n",
    "            -window_df[f\"{hand}_position_z\"],\n",
    "            window_df[f\"{hand}_position_y\"],\n",
    "            label=hand,\n",
    "        )\n",
    "    ax.set_xlabel('X')\n",
    "    ax.set_zlabel('-Z')\n",
    "    ax.set_ylabel('Y')\n",
    "    ax.quiver(\n",
    "        origin.iloc[0], -origin.iloc[1], 0,\n",
    "        direction.iloc[0], -direction.iloc[1], 0,\n",
    "        length=0.1, color='black', label='midline'\n",
    "    )\n",
    "    plt.legend()\n",
    "    plt.show()\n",
    "\n",
    "plot_hand_pose(hand_window_df)"
   ]
  },
  {
   "cell_type": "code",
   "execution_count": 14,
   "metadata": {},
   "outputs": [
    {
     "data": {
      "application/vnd.microsoft.datawrangler.viewer.v0+json": {
       "columns": [
        {
         "name": "index",
         "rawType": "int64",
         "type": "integer"
        },
        {
         "name": "left_position_x",
         "rawType": "float64",
         "type": "float"
        },
        {
         "name": "left_position_y",
         "rawType": "float64",
         "type": "float"
        },
        {
         "name": "left_position_z",
         "rawType": "float64",
         "type": "float"
        }
       ],
       "conversionMethod": "pd.DataFrame",
       "ref": "923ef103-59fc-4a5a-9bc9-2cf5cacc1e03",
       "rows": [
        [
         "0",
         null,
         null,
         null
        ],
        [
         "1",
         null,
         null,
         null
        ],
        [
         "2",
         null,
         null,
         null
        ],
        [
         "3",
         null,
         null,
         null
        ],
        [
         "4",
         null,
         null,
         null
        ],
        [
         "5",
         null,
         null,
         null
        ],
        [
         "6",
         null,
         null,
         null
        ],
        [
         "7",
         null,
         null,
         null
        ],
        [
         "8",
         null,
         null,
         null
        ],
        [
         "9",
         null,
         null,
         null
        ],
        [
         "10",
         null,
         null,
         null
        ],
        [
         "11",
         null,
         null,
         null
        ],
        [
         "12",
         null,
         null,
         null
        ],
        [
         "13",
         null,
         null,
         null
        ],
        [
         "14",
         null,
         null,
         null
        ],
        [
         "15",
         null,
         null,
         null
        ],
        [
         "16",
         null,
         null,
         null
        ],
        [
         "17",
         null,
         null,
         null
        ],
        [
         "18",
         null,
         null,
         null
        ],
        [
         "19",
         null,
         null,
         null
        ],
        [
         "20",
         null,
         null,
         null
        ],
        [
         "21",
         null,
         null,
         null
        ],
        [
         "22",
         null,
         null,
         null
        ],
        [
         "23",
         null,
         null,
         null
        ],
        [
         "24",
         null,
         null,
         null
        ],
        [
         "25",
         null,
         null,
         null
        ],
        [
         "26",
         null,
         null,
         null
        ],
        [
         "27",
         null,
         null,
         null
        ],
        [
         "28",
         null,
         null,
         null
        ],
        [
         "29",
         null,
         null,
         null
        ],
        [
         "30",
         null,
         null,
         null
        ],
        [
         "31",
         null,
         null,
         null
        ],
        [
         "32",
         null,
         null,
         null
        ],
        [
         "33",
         null,
         null,
         null
        ],
        [
         "34",
         null,
         null,
         null
        ],
        [
         "35",
         null,
         null,
         null
        ],
        [
         "36",
         null,
         null,
         null
        ],
        [
         "37",
         null,
         null,
         null
        ],
        [
         "38",
         null,
         null,
         null
        ],
        [
         "39",
         null,
         null,
         null
        ],
        [
         "40",
         null,
         null,
         null
        ],
        [
         "41",
         null,
         null,
         null
        ],
        [
         "42",
         null,
         null,
         null
        ],
        [
         "43",
         null,
         null,
         null
        ],
        [
         "44",
         null,
         null,
         null
        ],
        [
         "45",
         null,
         null,
         null
        ],
        [
         "46",
         null,
         null,
         null
        ],
        [
         "47",
         null,
         null,
         null
        ],
        [
         "48",
         null,
         null,
         null
        ],
        [
         "49",
         null,
         null,
         null
        ]
       ],
       "shape": {
        "columns": 3,
        "rows": 28969
       }
      },
      "text/html": [
       "<div>\n",
       "<style scoped>\n",
       "    .dataframe tbody tr th:only-of-type {\n",
       "        vertical-align: middle;\n",
       "    }\n",
       "\n",
       "    .dataframe tbody tr th {\n",
       "        vertical-align: top;\n",
       "    }\n",
       "\n",
       "    .dataframe thead th {\n",
       "        text-align: right;\n",
       "    }\n",
       "</style>\n",
       "<table border=\"1\" class=\"dataframe\">\n",
       "  <thead>\n",
       "    <tr style=\"text-align: right;\">\n",
       "      <th></th>\n",
       "      <th>left_position_x</th>\n",
       "      <th>left_position_y</th>\n",
       "      <th>left_position_z</th>\n",
       "    </tr>\n",
       "  </thead>\n",
       "  <tbody>\n",
       "    <tr>\n",
       "      <th>0</th>\n",
       "      <td>NaN</td>\n",
       "      <td>NaN</td>\n",
       "      <td>NaN</td>\n",
       "    </tr>\n",
       "    <tr>\n",
       "      <th>1</th>\n",
       "      <td>NaN</td>\n",
       "      <td>NaN</td>\n",
       "      <td>NaN</td>\n",
       "    </tr>\n",
       "    <tr>\n",
       "      <th>2</th>\n",
       "      <td>NaN</td>\n",
       "      <td>NaN</td>\n",
       "      <td>NaN</td>\n",
       "    </tr>\n",
       "    <tr>\n",
       "      <th>3</th>\n",
       "      <td>NaN</td>\n",
       "      <td>NaN</td>\n",
       "      <td>NaN</td>\n",
       "    </tr>\n",
       "    <tr>\n",
       "      <th>4</th>\n",
       "      <td>NaN</td>\n",
       "      <td>NaN</td>\n",
       "      <td>NaN</td>\n",
       "    </tr>\n",
       "    <tr>\n",
       "      <th>...</th>\n",
       "      <td>...</td>\n",
       "      <td>...</td>\n",
       "      <td>...</td>\n",
       "    </tr>\n",
       "    <tr>\n",
       "      <th>28964</th>\n",
       "      <td>NaN</td>\n",
       "      <td>NaN</td>\n",
       "      <td>NaN</td>\n",
       "    </tr>\n",
       "    <tr>\n",
       "      <th>28965</th>\n",
       "      <td>NaN</td>\n",
       "      <td>NaN</td>\n",
       "      <td>NaN</td>\n",
       "    </tr>\n",
       "    <tr>\n",
       "      <th>28966</th>\n",
       "      <td>NaN</td>\n",
       "      <td>NaN</td>\n",
       "      <td>NaN</td>\n",
       "    </tr>\n",
       "    <tr>\n",
       "      <th>28967</th>\n",
       "      <td>NaN</td>\n",
       "      <td>NaN</td>\n",
       "      <td>NaN</td>\n",
       "    </tr>\n",
       "    <tr>\n",
       "      <th>28968</th>\n",
       "      <td>NaN</td>\n",
       "      <td>NaN</td>\n",
       "      <td>NaN</td>\n",
       "    </tr>\n",
       "  </tbody>\n",
       "</table>\n",
       "<p>28969 rows × 3 columns</p>\n",
       "</div>"
      ],
      "text/plain": [
       "       left_position_x  left_position_y  left_position_z\n",
       "0                  NaN              NaN              NaN\n",
       "1                  NaN              NaN              NaN\n",
       "2                  NaN              NaN              NaN\n",
       "3                  NaN              NaN              NaN\n",
       "4                  NaN              NaN              NaN\n",
       "...                ...              ...              ...\n",
       "28964              NaN              NaN              NaN\n",
       "28965              NaN              NaN              NaN\n",
       "28966              NaN              NaN              NaN\n",
       "28967              NaN              NaN              NaN\n",
       "28968              NaN              NaN              NaN\n",
       "\n",
       "[28969 rows x 3 columns]"
      ]
     },
     "execution_count": 14,
     "metadata": {},
     "output_type": "execute_result"
    }
   ],
   "source": [
    "participant_data[3][\"hand_pose\"][[\"left_position_x\", \"left_position_y\", \"left_position_z\"]]"
   ]
  },
  {
   "cell_type": "markdown",
   "metadata": {},
   "source": [
    "#### Head pose"
   ]
  },
  {
   "cell_type": "code",
   "execution_count": null,
   "metadata": {},
   "outputs": [],
   "source": [
    "def process_head_pose(file_path):\n",
    "    pass\n",
    "\n",
    "process_head_pose(f\"{path}/hololens2_head_pose.csv\")"
   ]
  },
  {
   "cell_type": "markdown",
   "metadata": {},
   "source": [
    "### Empatica E4"
   ]
  },
  {
   "cell_type": "markdown",
   "metadata": {},
   "source": [
    "#### BVP"
   ]
  },
  {
   "cell_type": "code",
   "execution_count": null,
   "metadata": {},
   "outputs": [],
   "source": [
    "def process_bvp(file_path):\n",
    "    pass\n",
    "\n",
    "process_bvp(f\"{path}/empatica_e4_bvp.csv\")"
   ]
  },
  {
   "cell_type": "markdown",
   "metadata": {},
   "source": [
    "#### EDA"
   ]
  },
  {
   "cell_type": "code",
   "execution_count": null,
   "metadata": {},
   "outputs": [],
   "source": [
    "def process_eda(file_path):\n",
    "    pass\n",
    "\n",
    "process_eda(f\"{path}/empatica_e4_eda.csv\")"
   ]
  },
  {
   "cell_type": "markdown",
   "metadata": {},
   "source": [
    "#### Temperature"
   ]
  },
  {
   "cell_type": "code",
   "execution_count": null,
   "metadata": {},
   "outputs": [],
   "source": [
    "def process_temperature(file_path):\n",
    "    pass\n",
    "\n",
    "process_temperature(f\"{path}/empatica_e4_tmp.csv\")"
   ]
  },
  {
   "cell_type": "markdown",
   "metadata": {},
   "source": [
    "## Batches\n",
    "\n",
    "Create batches using sliding windows on each of the trials.\n",
    "\n",
    "We need:\n",
    "- `batch_index`: with start and end times for all windows.\n",
    "- `feature_df`: containing hand-crafted features of each batch. Ready for machine learning.\n",
    "- `batch_data`: containing the data of each batch, separated by sensor. Ready for deep learning."
   ]
  },
  {
   "cell_type": "markdown",
   "metadata": {},
   "source": [
    "### Batch index"
   ]
  },
  {
   "cell_type": "code",
   "execution_count": null,
   "metadata": {},
   "outputs": [
    {
     "data": {
      "application/vnd.microsoft.datawrangler.viewer.v0+json": {
       "columns": [
        {
         "name": "index",
         "rawType": "int64",
         "type": "integer"
        },
        {
         "name": "batch_id",
         "rawType": "int64",
         "type": "integer"
        },
        {
         "name": "participant_id",
         "rawType": "int64",
         "type": "integer"
        },
        {
         "name": "trial_id",
         "rawType": "int64",
         "type": "integer"
        },
        {
         "name": "start_time",
         "rawType": "datetime64[ns, CET]",
         "type": "unknown"
        },
        {
         "name": "end_time",
         "rawType": "datetime64[ns, CET]",
         "type": "unknown"
        },
        {
         "name": "cognitive_load",
         "rawType": "int64",
         "type": "integer"
        }
       ],
       "conversionMethod": "pd.DataFrame",
       "ref": "9375f41c-7793-464c-b0f2-7fba813cd1ea",
       "rows": [
        [
         "0",
         "0",
         "2",
         "0",
         "2025-01-29 13:05:43.529607910+01:00",
         "2025-01-29 13:05:53.529607910+01:00",
         "1"
        ],
        [
         "1",
         "1",
         "2",
         "0",
         "2025-01-29 13:05:44.529607910+01:00",
         "2025-01-29 13:05:54.529607910+01:00",
         "1"
        ],
        [
         "2",
         "2",
         "2",
         "0",
         "2025-01-29 13:05:45.529607910+01:00",
         "2025-01-29 13:05:55.529607910+01:00",
         "1"
        ],
        [
         "3",
         "3",
         "2",
         "0",
         "2025-01-29 13:05:46.529607910+01:00",
         "2025-01-29 13:05:56.529607910+01:00",
         "1"
        ],
        [
         "4",
         "4",
         "2",
         "0",
         "2025-01-29 13:05:47.529607910+01:00",
         "2025-01-29 13:05:57.529607910+01:00",
         "1"
        ]
       ],
       "shape": {
        "columns": 6,
        "rows": 5
       }
      },
      "text/html": [
       "<div>\n",
       "<style scoped>\n",
       "    .dataframe tbody tr th:only-of-type {\n",
       "        vertical-align: middle;\n",
       "    }\n",
       "\n",
       "    .dataframe tbody tr th {\n",
       "        vertical-align: top;\n",
       "    }\n",
       "\n",
       "    .dataframe thead th {\n",
       "        text-align: right;\n",
       "    }\n",
       "</style>\n",
       "<table border=\"1\" class=\"dataframe\">\n",
       "  <thead>\n",
       "    <tr style=\"text-align: right;\">\n",
       "      <th></th>\n",
       "      <th>batch_id</th>\n",
       "      <th>participant_id</th>\n",
       "      <th>trial_id</th>\n",
       "      <th>start_time</th>\n",
       "      <th>end_time</th>\n",
       "      <th>cognitive_load</th>\n",
       "    </tr>\n",
       "  </thead>\n",
       "  <tbody>\n",
       "    <tr>\n",
       "      <th>0</th>\n",
       "      <td>0</td>\n",
       "      <td>2</td>\n",
       "      <td>0</td>\n",
       "      <td>2025-01-29 13:05:43.529607910+01:00</td>\n",
       "      <td>2025-01-29 13:05:53.529607910+01:00</td>\n",
       "      <td>1</td>\n",
       "    </tr>\n",
       "    <tr>\n",
       "      <th>1</th>\n",
       "      <td>1</td>\n",
       "      <td>2</td>\n",
       "      <td>0</td>\n",
       "      <td>2025-01-29 13:05:44.529607910+01:00</td>\n",
       "      <td>2025-01-29 13:05:54.529607910+01:00</td>\n",
       "      <td>1</td>\n",
       "    </tr>\n",
       "    <tr>\n",
       "      <th>2</th>\n",
       "      <td>2</td>\n",
       "      <td>2</td>\n",
       "      <td>0</td>\n",
       "      <td>2025-01-29 13:05:45.529607910+01:00</td>\n",
       "      <td>2025-01-29 13:05:55.529607910+01:00</td>\n",
       "      <td>1</td>\n",
       "    </tr>\n",
       "    <tr>\n",
       "      <th>3</th>\n",
       "      <td>3</td>\n",
       "      <td>2</td>\n",
       "      <td>0</td>\n",
       "      <td>2025-01-29 13:05:46.529607910+01:00</td>\n",
       "      <td>2025-01-29 13:05:56.529607910+01:00</td>\n",
       "      <td>1</td>\n",
       "    </tr>\n",
       "    <tr>\n",
       "      <th>4</th>\n",
       "      <td>4</td>\n",
       "      <td>2</td>\n",
       "      <td>0</td>\n",
       "      <td>2025-01-29 13:05:47.529607910+01:00</td>\n",
       "      <td>2025-01-29 13:05:57.529607910+01:00</td>\n",
       "      <td>1</td>\n",
       "    </tr>\n",
       "  </tbody>\n",
       "</table>\n",
       "</div>"
      ],
      "text/plain": [
       "   batch_id  participant_id  trial_id                          start_time  \\\n",
       "0         0               2         0 2025-01-29 13:05:43.529607910+01:00   \n",
       "1         1               2         0 2025-01-29 13:05:44.529607910+01:00   \n",
       "2         2               2         0 2025-01-29 13:05:45.529607910+01:00   \n",
       "3         3               2         0 2025-01-29 13:05:46.529607910+01:00   \n",
       "4         4               2         0 2025-01-29 13:05:47.529607910+01:00   \n",
       "\n",
       "                             end_time  cognitive_load  \n",
       "0 2025-01-29 13:05:53.529607910+01:00               1  \n",
       "1 2025-01-29 13:05:54.529607910+01:00               1  \n",
       "2 2025-01-29 13:05:55.529607910+01:00               1  \n",
       "3 2025-01-29 13:05:56.529607910+01:00               1  \n",
       "4 2025-01-29 13:05:57.529607910+01:00               1  "
      ]
     },
     "execution_count": 184,
     "metadata": {},
     "output_type": "execute_result"
    }
   ],
   "source": [
    "def generate_trial_windows(participant_id, trial_id, window_size=10, step_size=1):\n",
    "    trial_start = trial_df.loc[\n",
    "        (trial_df[\"participant_id\"] == participant_id) & (trial_df.index == trial_id), \"start_time\"\n",
    "    ].iloc[0]\n",
    "    trial_end = trial_df.loc[\n",
    "        (trial_df[\"participant_id\"] == participant_id) & (trial_df.index == trial_id), \"end_time\"\n",
    "    ].iloc[0]\n",
    "    current_time = trial_start\n",
    "    while current_time + pd.Timedelta(seconds=window_size) <= trial_end:\n",
    "        start_time, end_time = current_time, current_time + pd.Timedelta(seconds=window_size)\n",
    "        yield (start_time, end_time)\n",
    "        current_time += pd.Timedelta(seconds=step_size)\n",
    "        \n",
    "def generate_batch_index(trial_df, window_size, step_size):\n",
    "    trial_df = trial_df[~trial_df[\"end_time\"].isnull()].copy()\n",
    "    batches = []\n",
    "    for participant_id in trial_df[\"participant_id\"].unique():\n",
    "        for trial_id in trial_df[trial_df[\"participant_id\"] == participant_id].index:\n",
    "            for start_time, end_time in generate_trial_windows(participant_id, trial_id, window_size, step_size):\n",
    "                cognitive_load = trial_df.loc[\n",
    "                    (trial_df[\"participant_id\"] == participant_id) & (trial_df.index == trial_id),\n",
    "                    \"cognitive_load\",\n",
    "                ].values[0]\n",
    "                batches.append((participant_id, trial_id, start_time, end_time, cognitive_load))\n",
    "    batch_index = (\n",
    "        pd.DataFrame(batches, columns=[\"participant_id\", \"trial_id\", \"start_time\", \"end_time\", \"cognitive_load\"])\n",
    "        .reset_index()\n",
    "        .rename(columns={\"index\": \"batch_id\"})\n",
    "    )\n",
    "    return batch_index\n",
    "\n",
    "window_size = 10\n",
    "step_size = 1\n",
    "batch_index = generate_batch_index(trial_df, window_size, step_size)\n",
    "batch_index.to_pickle(\"../data/working/batch_index.pkl\")\n",
    "batch_index.head()"
   ]
  },
  {
   "cell_type": "markdown",
   "metadata": {},
   "source": [
    "### Helpful things for next steps\n",
    "\n",
    "Things like list of sensors, relevant columns, etc."
   ]
  },
  {
   "cell_type": "code",
   "execution_count": 10,
   "metadata": {},
   "outputs": [],
   "source": [
    "sensor_list = [\"gaze\", \"hand\", \"head\"]\n",
    "sample_rate_dict = {\"gaze\": 20, \"fixation\": 3, \"hand\": 20, \"head\": 20}\n",
    "ignore_columns = [\"session_id\", \"trial_id\", \"timestamp\"]\n",
    "\n",
    "sensor_data_dict = dict()\n",
    "sensor_data_dict[\"gaze\"] = eye_ray_df\n",
    "sensor_data_dict[\"hand\"] = hand_pose_df\n",
    "sensor_data_dict[\"head\"] = head_pose_df\n",
    "feature_columns = dict()\n",
    "for sensor in sensor_list:\n",
    "    feature_columns[sensor] = list(sensor_data_dict[sensor].columns.difference(ignore_columns))"
   ]
  },
  {
   "cell_type": "markdown",
   "metadata": {},
   "source": [
    "### Feature extraction"
   ]
  },
  {
   "cell_type": "code",
   "execution_count": 11,
   "metadata": {},
   "outputs": [],
   "source": [
    "def summarize_features(sensor, window_df):\n",
    "    features = dict()\n",
    "    for column in window_df.columns:\n",
    "        if window_df[column].isnull().sum() < len(window_df):\n",
    "            features[f\"{sensor}_{column}_median\"] = window_df[column].median()\n",
    "            features[f\"{sensor}_{column}_std\"] = window_df[column].std()\n",
    "            features[f\"{sensor}_{column}_min\"] = window_df[column].min()\n",
    "            features[f\"{sensor}_{column}_max\"] = window_df[column].max()\n",
    "    return features"
   ]
  },
  {
   "cell_type": "markdown",
   "metadata": {},
   "source": [
    "#### Eye tracking"
   ]
  },
  {
   "cell_type": "code",
   "execution_count": 12,
   "metadata": {},
   "outputs": [],
   "source": [
    "def extract_gaze_features(gaze_df):\n",
    "    gaze_df = gaze_df.rename(columns={\"direction_x\": \"x\", \"direction_y\": \"y\", \"direction_z\": \"z\"})\n",
    "    fixation_df = extract_fixations(\n",
    "        gaze_df,\n",
    "        min_points_per_fixation=int(0.1 * sample_rate_dict[\"gaze\"]),\n",
    "        min_fixation_size=0.054 / 3 * 2, # 2 bits of the cube\n",
    "        max_fixation_size=0.054, # 1 face of the cube\n",
    "    )\n",
    "    fixation_df[\"duration\"] = (fixation_df[\"end\"] - fixation_df[\"start\"]).dt.total_seconds()\n",
    "    fixation_df[\"distance\"] = np.sqrt(fixation_df[\"x\"].diff() ** 2 + fixation_df[\"y\"].diff() ** 2 + fixation_df[\"z\"].diff() ** 2)\n",
    "    fixation_df[\"speed\"] = fixation_df[\"distance\"] / fixation_df[\"duration\"]\n",
    "\n",
    "    # angle between consecutive fixations\n",
    "    vector_x = fixation_df[\"x\"] - fixation_df[\"origin_x\"]\n",
    "    vector_y = fixation_df[\"y\"] - fixation_df[\"origin_y\"]\n",
    "    vector_z = fixation_df[\"z\"] - fixation_df[\"origin_z\"]\n",
    "    current_vector = np.stack([vector_x, vector_y, vector_z], axis=1)\n",
    "    previous_vector = np.stack([vector_x.shift(1), vector_y.shift(1), vector_z.shift(1)], axis=1)\n",
    "    dot_product = np.einsum('ij,ij->i', current_vector, previous_vector)\n",
    "    norm_vector = np.linalg.norm(current_vector, axis=1)\n",
    "    previous_norm_vector = np.linalg.norm(previous_vector, axis=1)\n",
    "    fixation_df[\"angle\"] = np.arccos(dot_product / (norm_vector * previous_norm_vector))\n",
    "\n",
    "    fixation_df.drop(columns=[\"start\", \"end\", \"x\", \"y\", \"z\", \"origin_x\", \"origin_y\", \"origin_z\"], inplace=True)\n",
    "    fixation_features = summarize_features(\"fixation\", fixation_df)\n",
    "    return fixation_features"
   ]
  },
  {
   "cell_type": "markdown",
   "metadata": {},
   "source": [
    "#### Hand pose"
   ]
  },
  {
   "cell_type": "markdown",
   "metadata": {},
   "source": [
    "\n",
    "A hand pose is represented by a 14-dimensional vector, with 7 parameters for each hand: \n",
    "- 3 parameters encode the 3D position of the hand\n",
    "- 4 parameters determine its orientation using unitary [quaternions](https://eater.net/quaternions). \n",
    "\n",
    "Each quaternion $q$ has a real component $q_w$, representing a rotation around an axis of rotation, represented by the imaginary components $q_x$, $q_y$ and $q_z$.\n",
    "\n",
    "<!-- For the quaternion to be unitary, $\\sqrt{q_x^2 + q_y^2 + q_z^2 + q_w^2} = 1$. We could transform the quaternions into a 3D vector and an angle of rotation in radians. The angle of rotation is determined by: \n",
    "\n",
    "$$2 \\cdot acos(q_w)$$\n",
    "\n",
    "To convert the components of the axis of rotation into a unitary 3D vector, we will use the formula:\n",
    "\n",
    "$$\\forall c \\in \\{x, y, z\\}, \\frac{q_c}{\\sqrt{1 - q_w^2}}$$ \n",
    "\n",
    "A special case occurs in the absence of rotation. If this happens, read the rest of the paragraph and handle the special case. From the first formula, this would happen when $acos(q_w) = 0$, that is, when $q_w = 1$. To keep the quaternion unitary, the other components ($x, y, z$) must be zero, leading to a quaternion of the form $(1, 0, 0, 0)$. As the angle approaches zero, $\\forall c \\in \\{x, y, z\\}, q_c \\to 0$, making our vector approach the origin. The problem arises when $q_w = 1$, because we would divide by 0, making our vector undefined. To avoid that, if the angle is zero, we will replace the vector with the origin $(0, 0, 0)$. -->"
   ]
  },
  {
   "cell_type": "code",
   "execution_count": 13,
   "metadata": {},
   "outputs": [],
   "source": [
    "def extract_hand_features(hand_df):\n",
    "    for hand in [\"left\", \"right\"]:\n",
    "        quaternion_df = hand_df[\n",
    "            [\n",
    "                f\"{hand}_orientation_x\",\n",
    "                f\"{hand}_orientation_y\",\n",
    "                f\"{hand}_orientation_z\",\n",
    "                f\"{hand}_orientation_w\",\n",
    "            ]\n",
    "        ]\n",
    "\n",
    "        # angular distance\n",
    "        dot_product = np.abs(\n",
    "            np.nansum(\n",
    "                quaternion_df.values * quaternion_df.shift(1).values,\n",
    "                axis=1,\n",
    "            )\n",
    "        )  # absolute value to avoid wrap-around issues\n",
    "        dot_product = np.clip(dot_product, 0, 1) # avoid numerical errors\n",
    "        hand_df[f\"{hand}_orientation_angular_distance\"] = 2 * np.arccos(dot_product)\n",
    "        hand_df[f\"{hand}_position_change\"] = np.linalg.norm(\n",
    "            hand_df[[f\"{hand}_position_x\", f\"{hand}_position_y\", f\"{hand}_position_z\"]]\n",
    "            .diff(axis=0)\n",
    "            .values,\n",
    "            axis=1,\n",
    "        )\n",
    "        drop_columns = [\n",
    "            column for column in hand_df.columns\n",
    "            if re.match(f\"{hand}_(position|orientation)_[x|y|z|w]\", column)\n",
    "            or \"accuracy\" in column  # could be useful for combining deep learning models, but not for machine learning I think\n",
    "        ]\n",
    "        hand_df.drop(columns=drop_columns, inplace=True)\n",
    "    hand_features = summarize_features(\"hand\", hand_df.drop(columns=[\"timestamp\"]))\n",
    "    return hand_features"
   ]
  },
  {
   "cell_type": "markdown",
   "metadata": {},
   "source": [
    "#### Head pose"
   ]
  },
  {
   "cell_type": "markdown",
   "metadata": {},
   "source": [
    "The head pose is represented by a 9-dimensional vector: \n",
    "- 3D position of the head (`position_x`, `position_y`, `position_z`)\n",
    "- Normalized 3D vector indicating forward direction (`forward_x`, `forward_y`, `forward_z`)\n",
    "- Normalized 3D vector indicating upward direction (`up_x`, `up_y`, `up_z`)"
   ]
  },
  {
   "cell_type": "code",
   "execution_count": 14,
   "metadata": {},
   "outputs": [],
   "source": [
    "def angular_distance_3d(direction_df):\n",
    "    dot_product = np.nansum(\n",
    "        direction_df.values * direction_df.shift(1).values,\n",
    "        axis=1,\n",
    "    )\n",
    "    dot_product = np.clip(dot_product, -1, 1)\n",
    "    angular_distances = np.arccos(dot_product)\n",
    "    return angular_distances\n",
    "\n",
    "def extract_head_features(head_df):\n",
    "    head_df[\"position_change\"] = np.linalg.norm(\n",
    "        head_df[[\"position_x\", \"position_y\", \"position_z\"]].diff(axis=0).values, axis=1\n",
    "    )\n",
    "    head_df[\"forward_angular_distance\"] = angular_distance_3d(head_df[[\"forward_x\", \"forward_y\", \"forward_z\"]])\n",
    "    head_df[\"up_angular_distance\"] = angular_distance_3d(head_df[[\"up_x\", \"up_y\", \"up_z\"]])\n",
    "\n",
    "    drop_columns = [\n",
    "        column for column in head_df.columns\n",
    "        if re.match(f\"(position|forward|up)_[x|y|z]\", column)\n",
    "    ]\n",
    "    head_df.drop(columns=drop_columns, inplace=True)\n",
    "    head_features = summarize_features(\"head\", head_df.drop(columns=[\"timestamp\"]))\n",
    "    return head_features"
   ]
  },
  {
   "cell_type": "markdown",
   "metadata": {},
   "source": [
    "### Create feature_df"
   ]
  },
  {
   "cell_type": "code",
   "execution_count": 15,
   "metadata": {},
   "outputs": [
    {
     "data": {
      "text/html": [
       "<div>\n",
       "<style scoped>\n",
       "    .dataframe tbody tr th:only-of-type {\n",
       "        vertical-align: middle;\n",
       "    }\n",
       "\n",
       "    .dataframe tbody tr th {\n",
       "        vertical-align: top;\n",
       "    }\n",
       "\n",
       "    .dataframe thead th {\n",
       "        text-align: right;\n",
       "    }\n",
       "</style>\n",
       "<table border=\"1\" class=\"dataframe\">\n",
       "  <thead>\n",
       "    <tr style=\"text-align: right;\">\n",
       "      <th></th>\n",
       "      <th>fixation_duration_median</th>\n",
       "      <th>fixation_duration_std</th>\n",
       "      <th>fixation_duration_min</th>\n",
       "      <th>fixation_duration_max</th>\n",
       "      <th>fixation_distance_median</th>\n",
       "      <th>fixation_distance_std</th>\n",
       "      <th>fixation_distance_min</th>\n",
       "      <th>fixation_distance_max</th>\n",
       "      <th>fixation_speed_median</th>\n",
       "      <th>fixation_speed_std</th>\n",
       "      <th>...</th>\n",
       "      <th>head_position_change_min</th>\n",
       "      <th>head_position_change_max</th>\n",
       "      <th>head_forward_angular_distance_median</th>\n",
       "      <th>head_forward_angular_distance_std</th>\n",
       "      <th>head_forward_angular_distance_min</th>\n",
       "      <th>head_forward_angular_distance_max</th>\n",
       "      <th>head_up_angular_distance_median</th>\n",
       "      <th>head_up_angular_distance_std</th>\n",
       "      <th>head_up_angular_distance_min</th>\n",
       "      <th>head_up_angular_distance_max</th>\n",
       "    </tr>\n",
       "  </thead>\n",
       "  <tbody>\n",
       "    <tr>\n",
       "      <th>0</th>\n",
       "      <td>0.471093</td>\n",
       "      <td>0.339892</td>\n",
       "      <td>0.046771</td>\n",
       "      <td>1.085419</td>\n",
       "      <td>0.060262</td>\n",
       "      <td>0.027569</td>\n",
       "      <td>0.015302</td>\n",
       "      <td>0.090408</td>\n",
       "      <td>0.093115</td>\n",
       "      <td>0.215167</td>\n",
       "      <td>...</td>\n",
       "      <td>0.000091</td>\n",
       "      <td>0.003910</td>\n",
       "      <td>0.003641</td>\n",
       "      <td>0.107630</td>\n",
       "      <td>0.000434</td>\n",
       "      <td>1.570796</td>\n",
       "      <td>0.008459</td>\n",
       "      <td>0.107422</td>\n",
       "      <td>0.0</td>\n",
       "      <td>1.570796</td>\n",
       "    </tr>\n",
       "    <tr>\n",
       "      <th>1</th>\n",
       "      <td>0.471093</td>\n",
       "      <td>0.330523</td>\n",
       "      <td>0.046771</td>\n",
       "      <td>1.085419</td>\n",
       "      <td>0.060262</td>\n",
       "      <td>0.027569</td>\n",
       "      <td>0.015302</td>\n",
       "      <td>0.090408</td>\n",
       "      <td>0.093115</td>\n",
       "      <td>0.215167</td>\n",
       "      <td>...</td>\n",
       "      <td>0.000091</td>\n",
       "      <td>0.003007</td>\n",
       "      <td>0.003572</td>\n",
       "      <td>0.107388</td>\n",
       "      <td>0.000434</td>\n",
       "      <td>1.570796</td>\n",
       "      <td>0.008371</td>\n",
       "      <td>0.107177</td>\n",
       "      <td>0.0</td>\n",
       "      <td>1.570796</td>\n",
       "    </tr>\n",
       "    <tr>\n",
       "      <th>2</th>\n",
       "      <td>0.517980</td>\n",
       "      <td>0.350713</td>\n",
       "      <td>0.046490</td>\n",
       "      <td>1.085419</td>\n",
       "      <td>0.050179</td>\n",
       "      <td>0.024702</td>\n",
       "      <td>0.015302</td>\n",
       "      <td>0.076121</td>\n",
       "      <td>0.085037</td>\n",
       "      <td>0.191650</td>\n",
       "      <td>...</td>\n",
       "      <td>0.000091</td>\n",
       "      <td>0.002529</td>\n",
       "      <td>0.003449</td>\n",
       "      <td>0.107655</td>\n",
       "      <td>0.000434</td>\n",
       "      <td>1.570796</td>\n",
       "      <td>0.007817</td>\n",
       "      <td>0.107438</td>\n",
       "      <td>0.0</td>\n",
       "      <td>1.570796</td>\n",
       "    </tr>\n",
       "    <tr>\n",
       "      <th>3</th>\n",
       "      <td>0.565422</td>\n",
       "      <td>0.322124</td>\n",
       "      <td>0.046490</td>\n",
       "      <td>1.085419</td>\n",
       "      <td>0.047059</td>\n",
       "      <td>0.024737</td>\n",
       "      <td>0.015302</td>\n",
       "      <td>0.076121</td>\n",
       "      <td>0.085037</td>\n",
       "      <td>0.192079</td>\n",
       "      <td>...</td>\n",
       "      <td>0.000042</td>\n",
       "      <td>0.002226</td>\n",
       "      <td>0.003286</td>\n",
       "      <td>0.107662</td>\n",
       "      <td>0.000434</td>\n",
       "      <td>1.570796</td>\n",
       "      <td>0.008026</td>\n",
       "      <td>0.107432</td>\n",
       "      <td>0.0</td>\n",
       "      <td>1.570796</td>\n",
       "    </tr>\n",
       "    <tr>\n",
       "      <th>4</th>\n",
       "      <td>0.565156</td>\n",
       "      <td>0.274288</td>\n",
       "      <td>0.046490</td>\n",
       "      <td>0.942412</td>\n",
       "      <td>0.074279</td>\n",
       "      <td>0.022242</td>\n",
       "      <td>0.038143</td>\n",
       "      <td>0.078677</td>\n",
       "      <td>0.101193</td>\n",
       "      <td>0.067829</td>\n",
       "      <td>...</td>\n",
       "      <td>0.000042</td>\n",
       "      <td>0.003288</td>\n",
       "      <td>0.003327</td>\n",
       "      <td>0.107655</td>\n",
       "      <td>0.000434</td>\n",
       "      <td>1.570796</td>\n",
       "      <td>0.007883</td>\n",
       "      <td>0.107434</td>\n",
       "      <td>0.0</td>\n",
       "      <td>1.570796</td>\n",
       "    </tr>\n",
       "  </tbody>\n",
       "</table>\n",
       "<p>5 rows × 52 columns</p>\n",
       "</div>"
      ],
      "text/plain": [
       "   fixation_duration_median  fixation_duration_std  fixation_duration_min  \\\n",
       "0                  0.471093               0.339892               0.046771   \n",
       "1                  0.471093               0.330523               0.046771   \n",
       "2                  0.517980               0.350713               0.046490   \n",
       "3                  0.565422               0.322124               0.046490   \n",
       "4                  0.565156               0.274288               0.046490   \n",
       "\n",
       "   fixation_duration_max  fixation_distance_median  fixation_distance_std  \\\n",
       "0               1.085419                  0.060262               0.027569   \n",
       "1               1.085419                  0.060262               0.027569   \n",
       "2               1.085419                  0.050179               0.024702   \n",
       "3               1.085419                  0.047059               0.024737   \n",
       "4               0.942412                  0.074279               0.022242   \n",
       "\n",
       "   fixation_distance_min  fixation_distance_max  fixation_speed_median  \\\n",
       "0               0.015302               0.090408               0.093115   \n",
       "1               0.015302               0.090408               0.093115   \n",
       "2               0.015302               0.076121               0.085037   \n",
       "3               0.015302               0.076121               0.085037   \n",
       "4               0.038143               0.078677               0.101193   \n",
       "\n",
       "   fixation_speed_std  ...  head_position_change_min  \\\n",
       "0            0.215167  ...                  0.000091   \n",
       "1            0.215167  ...                  0.000091   \n",
       "2            0.191650  ...                  0.000091   \n",
       "3            0.192079  ...                  0.000042   \n",
       "4            0.067829  ...                  0.000042   \n",
       "\n",
       "   head_position_change_max  head_forward_angular_distance_median  \\\n",
       "0                  0.003910                              0.003641   \n",
       "1                  0.003007                              0.003572   \n",
       "2                  0.002529                              0.003449   \n",
       "3                  0.002226                              0.003286   \n",
       "4                  0.003288                              0.003327   \n",
       "\n",
       "   head_forward_angular_distance_std  head_forward_angular_distance_min  \\\n",
       "0                           0.107630                           0.000434   \n",
       "1                           0.107388                           0.000434   \n",
       "2                           0.107655                           0.000434   \n",
       "3                           0.107662                           0.000434   \n",
       "4                           0.107655                           0.000434   \n",
       "\n",
       "   head_forward_angular_distance_max  head_up_angular_distance_median  \\\n",
       "0                           1.570796                         0.008459   \n",
       "1                           1.570796                         0.008371   \n",
       "2                           1.570796                         0.007817   \n",
       "3                           1.570796                         0.008026   \n",
       "4                           1.570796                         0.007883   \n",
       "\n",
       "   head_up_angular_distance_std  head_up_angular_distance_min  \\\n",
       "0                      0.107422                           0.0   \n",
       "1                      0.107177                           0.0   \n",
       "2                      0.107438                           0.0   \n",
       "3                      0.107432                           0.0   \n",
       "4                      0.107434                           0.0   \n",
       "\n",
       "   head_up_angular_distance_max  \n",
       "0                      1.570796  \n",
       "1                      1.570796  \n",
       "2                      1.570796  \n",
       "3                      1.570796  \n",
       "4                      1.570796  \n",
       "\n",
       "[5 rows x 52 columns]"
      ]
     },
     "execution_count": 15,
     "metadata": {},
     "output_type": "execute_result"
    }
   ],
   "source": [
    "def extract_features(batch):\n",
    "    query = \"session_id == @batch['session_id'] and trial_id == @batch['trial_id'] and timestamp >= @batch['start_time'] and timestamp <= @batch['end_time']\"\n",
    "    feature_dict = dict()\n",
    "    for sensor in sensor_list:\n",
    "        sensor_df = (\n",
    "            sensor_data_dict[sensor]\n",
    "            .query(query)\n",
    "            .drop(columns=[\"session_id\", \"trial_id\"])\n",
    "            .copy()\n",
    "        ) \n",
    "        if sensor == \"gaze\":\n",
    "            sensor_feature_dict = extract_gaze_features(sensor_df)\n",
    "        elif sensor == \"hand\":\n",
    "            sensor_feature_dict = extract_hand_features(sensor_df)\n",
    "        elif sensor == \"head\":\n",
    "            sensor_feature_dict = extract_head_features(sensor_df)\n",
    "        feature_dict.update(sensor_feature_dict)\n",
    "    \n",
    "    return feature_dict\n",
    "\n",
    "feature_df = pd.DataFrame([extract_features(batch) for _, batch in batch_index.iterrows()])  # 54.5 seconds\n",
    "feature_df.to_pickle(\"working/feature_df.pkl\")\n",
    "feature_df.head()"
   ]
  },
  {
   "cell_type": "markdown",
   "metadata": {},
   "source": [
    "### Batch data (deep learning)"
   ]
  },
  {
   "cell_type": "markdown",
   "metadata": {},
   "source": [
    "#### Fit scalers using leave-one-out\n",
    "\n",
    "These scalers will be used to normalize the data while ensuring separation of train and test data."
   ]
  },
  {
   "cell_type": "code",
   "execution_count": 16,
   "metadata": {},
   "outputs": [],
   "source": [
    "def leave_one_out_scalers(excluded_session_id):\n",
    "    sensor_scaler_dict = dict()\n",
    "    for sensor in sensor_list:\n",
    "        X = (\n",
    "            sensor_data_dict[sensor]\n",
    "            .loc[\n",
    "                sensor_data_dict[sensor][\"session_id\"] != excluded_session_id,\n",
    "                feature_columns[sensor]\n",
    "            ]\n",
    "            .dropna()\n",
    "            .values\n",
    "        )\n",
    "        scaler = StandardScaler().fit(X)\n",
    "        sensor_scaler_dict[sensor] = scaler\n",
    "    return sensor_scaler_dict\n",
    "\n",
    "leave_out_session_scalers = dict()\n",
    "for leave_out_session_id in trial_df[\"session_id\"].unique():\n",
    "    leave_out_session_scalers[leave_out_session_id] = leave_one_out_scalers(leave_out_session_id)\n",
    "\n",
    "pickle.dump(leave_out_session_scalers, open(\"working/leave_one_out_scalers.pkl\", \"wb\"))"
   ]
  },
  {
   "cell_type": "code",
   "execution_count": 22,
   "metadata": {},
   "outputs": [],
   "source": [
    "def get_window_data(self, session_id, sample_rate_dict, sensor, trial_id, start_time, end_time):\n",
    "    # resample\n",
    "    # interpolate\n",
    "    X = self.data_dict[sensor].loc[\n",
    "        (self.data_dict[sensor][\"session_id\"] == session_id)\n",
    "        & (self.data_dict[sensor][\"trial_id\"] == trial_id)\n",
    "        & (self.data_dict[sensor][\"timestamp\"] >= start_time)\n",
    "        & (self.data_dict[sensor][\"timestamp\"] < end_time),\n",
    "        [\"timestamp\"] + feature_columns[sensor],\n",
    "    ]\n",
    "    expected_length = sample_rate_dict[sensor] * self.window_size\n",
    "    X = X[:expected_length]\n",
    "    X = X.drop(columns=[\"timestamp\"]).values\n",
    "    X = leave_out_session_scalers[session_id][sensor].transform(X)\n",
    "    if np.isnan(X).any():\n",
    "        print(\"NAN values found\")\n",
    "        X = np.nan_to_num(X, nan=0.0)\n",
    "    X = np.pad(X, ((0, expected_length - X.shape[0]), (0, 0)), constant_values=0)\n",
    "    X = np.expand_dims(X, axis=0)\n",
    "    return X"
   ]
  },
  {
   "cell_type": "code",
   "execution_count": 10,
   "metadata": {},
   "outputs": [],
   "source": [
    "identifier_columns = [\"timestamp\", \"session_id\", \"trial_id\"]"
   ]
  },
  {
   "cell_type": "code",
   "execution_count": 11,
   "metadata": {},
   "outputs": [
    {
     "data": {
      "image/png": "[encoded data removed]",
      "text/plain": [
       "<Figure size 1200x200 with 1 Axes>"
      ]
     },
     "metadata": {},
     "output_type": "display_data"
    },
    {
     "data": {
      "image/png": "[encoded data removed]",
      "text/plain": [
       "<Figure size 1200x200 with 1 Axes>"
      ]
     },
     "metadata": {},
     "output_type": "display_data"
    },
    {
     "data": {
      "image/png": "[encoded data removed]",
      "text/plain": [
       "<Figure size 1200x200 with 1 Axes>"
      ]
     },
     "metadata": {},
     "output_type": "display_data"
    }
   ],
   "source": [
    "def plot_sample_rate(df):\n",
    "    timestamp_in_ms = df['timestamp'].astype(int) / 10**6\n",
    "    sample_rate = 1000 / np.array([timestamp_in_ms.iloc[i] - timestamp_in_ms.iloc[i - 1] for i in range(1, len(df))])\n",
    "    plt.figure(figsize=(12, 2))\n",
    "    plt.plot(sample_rate)\n",
    "    plt.ylim(0, 30)\n",
    "    plt.title(f\"{np.mean(sample_rate):.2f} Hz\")\n",
    "    plt.show()\n",
    "\n",
    "plot_sample_rate(eye_ray_df)\n",
    "plot_sample_rate(hand_pose_df)\n",
    "plot_sample_rate(head_pose_df)"
   ]
  },
  {
   "cell_type": "markdown",
   "metadata": {},
   "source": [
    "Although the theoretical sample rate was 30 Hz, based on the data, it's more like 20 Hz.\n",
    "Each dataset will be resampled and interpolated to 20 Hz."
   ]
  },
  {
   "cell_type": "code",
   "execution_count": 12,
   "metadata": {},
   "outputs": [],
   "source": [
    "sample_rate_dict = 20"
   ]
  },
  {
   "cell_type": "code",
   "execution_count": 14,
   "metadata": {},
   "outputs": [],
   "source": [
    "def interpolate_dataframe(raw_df, ignore_columns=[\"session_id\", \"trial_id\", \"timestamp\", \"start\", \"end\"]):\n",
    "    feature_columns = [feature_column for feature_column in raw_df.columns if feature_column not in ignore_columns]\n",
    "    interpolated_df = raw_df.copy()\n",
    "    for feature_column in feature_columns:\n",
    "        y = interpolated_df[feature_column]\n",
    "        mask = ~np.isnan(y)\n",
    "        if len(y[mask]) > 0:\n",
    "            interpolated_y = np.interp(\n",
    "                interpolated_df[\"timestamp\"], interpolated_df[\"timestamp\"][mask], y[mask]\n",
    "            )\n",
    "            interpolated_df[feature_column] = interpolated_y\n",
    "    return interpolated_df"
   ]
  },
  {
   "cell_type": "code",
   "execution_count": null,
   "metadata": {},
   "outputs": [],
   "source": [
    "def resample_dataframe(raw_df, sample_rate=20):\n",
    "    resampled_df = raw_df.copy()\n",
    "    period = pd.Timedelta(seconds=1 / sample_rate)\n",
    "    # Round the timestamps to the nearest interval\n",
    "    resampled_df[\"timestamp\"] = resampled_df[\"timestamp\"].dt.floor(period)\n",
    "    start_time = resampled_df[\"timestamp\"].iloc[0]\n",
    "    end_time = resampled_df[\"timestamp\"].iloc[-1]\n",
    "    num_periods = int((end_time - start_time) / period) + 1\n",
    "    theoretical_times = pd.date_range(\n",
    "        start=start_time,\n",
    "        periods=num_periods,\n",
    "        freq=period\n",
    "    )\n",
    "    complete_df = (\n",
    "        pd.DataFrame({\"timestamp\": theoretical_times})\n",
    "        .merge(resampled_df, on=\"timestamp\", how=\"left\")\n",
    "        .groupby(\"timestamp\")\n",
    "        .mean()\n",
    "        .reset_index()\n",
    "    )\n",
    "\n",
    "    print(f\"Resampled from {len(resampled_df)} to {len(complete_df)} rows\")\n",
    "    return complete_df\n",
    "\n",
    "resample_dataframe(eye_ray_df).head()"
   ]
  },
  {
   "cell_type": "markdown",
   "metadata": {},
   "source": [
    "### Eye tracking"
   ]
  },
  {
   "cell_type": "code",
   "execution_count": 37,
   "metadata": {},
   "outputs": [
    {
     "name": "stdout",
     "output_type": "stream",
     "text": [
      "Resampled from 22443 to 21153 rows\n"
     ]
    }
   ],
   "source": [
    "eye_ray_df = resample_dataframe(eye_ray_df, sample_rate)"
   ]
  },
  {
   "cell_type": "code",
   "execution_count": null,
   "metadata": {},
   "outputs": [
    {
     "data": {
      "text/html": [
       "<div>\n",
       "<style scoped>\n",
       "    .dataframe tbody tr th:only-of-type {\n",
       "        vertical-align: middle;\n",
       "    }\n",
       "\n",
       "    .dataframe tbody tr th {\n",
       "        vertical-align: top;\n",
       "    }\n",
       "\n",
       "    .dataframe thead th {\n",
       "        text-align: right;\n",
       "    }\n",
       "</style>\n",
       "<table border=\"1\" class=\"dataframe\">\n",
       "  <thead>\n",
       "    <tr style=\"text-align: right;\">\n",
       "      <th></th>\n",
       "      <th>session_id</th>\n",
       "      <th>trial_id</th>\n",
       "      <th>start</th>\n",
       "      <th>end</th>\n",
       "      <th>x</th>\n",
       "      <th>y</th>\n",
       "      <th>z</th>\n",
       "      <th>origin_x</th>\n",
       "      <th>origin_y</th>\n",
       "      <th>origin_z</th>\n",
       "    </tr>\n",
       "  </thead>\n",
       "  <tbody>\n",
       "    <tr>\n",
       "      <th>0</th>\n",
       "      <td>NaN</td>\n",
       "      <td>NaN</td>\n",
       "      <td>2024-08-14 12:28:31.700</td>\n",
       "      <td>2024-08-14 12:28:32.050</td>\n",
       "      <td>-0.012077</td>\n",
       "      <td>-0.277806</td>\n",
       "      <td>-0.960462</td>\n",
       "      <td>-0.103872</td>\n",
       "      <td>0.007036</td>\n",
       "      <td>-0.261217</td>\n",
       "    </tr>\n",
       "    <tr>\n",
       "      <th>1</th>\n",
       "      <td>NaN</td>\n",
       "      <td>NaN</td>\n",
       "      <td>2024-08-14 12:28:32.150</td>\n",
       "      <td>2024-08-14 12:28:32.250</td>\n",
       "      <td>-0.275322</td>\n",
       "      <td>-0.082014</td>\n",
       "      <td>-0.957828</td>\n",
       "      <td>-0.093930</td>\n",
       "      <td>0.011127</td>\n",
       "      <td>-0.262677</td>\n",
       "    </tr>\n",
       "    <tr>\n",
       "      <th>2</th>\n",
       "      <td>NaN</td>\n",
       "      <td>NaN</td>\n",
       "      <td>2024-08-14 12:28:32.350</td>\n",
       "      <td>2024-08-14 12:28:32.500</td>\n",
       "      <td>-0.147442</td>\n",
       "      <td>-0.499240</td>\n",
       "      <td>-0.853814</td>\n",
       "      <td>-0.103529</td>\n",
       "      <td>0.008741</td>\n",
       "      <td>-0.255959</td>\n",
       "    </tr>\n",
       "    <tr>\n",
       "      <th>3</th>\n",
       "      <td>NaN</td>\n",
       "      <td>NaN</td>\n",
       "      <td>2024-08-14 12:28:32.700</td>\n",
       "      <td>2024-08-14 12:28:33.100</td>\n",
       "      <td>-0.340324</td>\n",
       "      <td>-0.463013</td>\n",
       "      <td>-0.818150</td>\n",
       "      <td>-0.104011</td>\n",
       "      <td>0.002346</td>\n",
       "      <td>-0.264965</td>\n",
       "    </tr>\n",
       "    <tr>\n",
       "      <th>4</th>\n",
       "      <td>NaN</td>\n",
       "      <td>NaN</td>\n",
       "      <td>2024-08-14 12:28:33.150</td>\n",
       "      <td>2024-08-14 12:28:33.350</td>\n",
       "      <td>-0.369839</td>\n",
       "      <td>-0.445797</td>\n",
       "      <td>-0.815149</td>\n",
       "      <td>-0.110238</td>\n",
       "      <td>0.003822</td>\n",
       "      <td>-0.261464</td>\n",
       "    </tr>\n",
       "  </tbody>\n",
       "</table>\n",
       "</div>"
      ],
      "text/plain": [
       "   session_id  trial_id                   start                     end  \\\n",
       "0         NaN       NaN 2024-08-14 12:28:31.700 2024-08-14 12:28:32.050   \n",
       "1         NaN       NaN 2024-08-14 12:28:32.150 2024-08-14 12:28:32.250   \n",
       "2         NaN       NaN 2024-08-14 12:28:32.350 2024-08-14 12:28:32.500   \n",
       "3         NaN       NaN 2024-08-14 12:28:32.700 2024-08-14 12:28:33.100   \n",
       "4         NaN       NaN 2024-08-14 12:28:33.150 2024-08-14 12:28:33.350   \n",
       "\n",
       "          x         y         z  origin_x  origin_y  origin_z  \n",
       "0 -0.012077 -0.277806 -0.960462 -0.103872  0.007036 -0.261217  \n",
       "1 -0.275322 -0.082014 -0.957828 -0.093930  0.011127 -0.262677  \n",
       "2 -0.147442 -0.499240 -0.853814 -0.103529  0.008741 -0.255959  \n",
       "3 -0.340324 -0.463013 -0.818150 -0.104011  0.002346 -0.264965  \n",
       "4 -0.369839 -0.445797 -0.815149 -0.110238  0.003822 -0.261464  "
      ]
     },
     "execution_count": 48,
     "metadata": {},
     "output_type": "execute_result"
    }
   ],
   "source": [
    "fixation_df = extract_fixations(\n",
    "    eye_ray_df.rename(\n",
    "        columns={\n",
    "              \"direction_x\": \"x\", \"direction_y\": \"y\", \"direction_z\": \"z\"\n",
    "              }\n",
    "    ),\n",
    "    min_points_per_fixation=int(0.1 * sample_rate_dict),\n",
    "    min_fixation_size=0.054 / 3 * 2, # 2 bits of the cube\n",
    "    max_fixation_size=0.054, # 1 face of the cube\n",
    ")\n",
    "fixation_df.insert(0, \"session_id\", np.nan)\n",
    "fixation_df.insert(1, \"trial_id\", np.nan)\n",
    "\n",
    "for participant_id in trial_df[\"session_id\"].unique():\n",
    "    for index, row in trial_df[trial_df[\"session_id\"] == participant_id].iterrows():\n",
    "        fixation_df.loc[(fixation_df[\"start\"] >= row[\"start\"]) & (fixation_df[\"end\"] <= row[\"end\"]), \"trial_id\"] = index\n",
    "        fixation_df.loc[(fixation_df[\"start\"] >= row[\"start\"]) & (fixation_df[\"end\"] <= row[\"end\"]), \"session_id\"] = participant_id\n",
    "fixation_df.head()"
   ]
  },
  {
   "cell_type": "code",
   "execution_count": 49,
   "metadata": {},
   "outputs": [
    {
     "data": {
      "text/html": [
       "<div>\n",
       "<style scoped>\n",
       "    .dataframe tbody tr th:only-of-type {\n",
       "        vertical-align: middle;\n",
       "    }\n",
       "\n",
       "    .dataframe tbody tr th {\n",
       "        vertical-align: top;\n",
       "    }\n",
       "\n",
       "    .dataframe thead th {\n",
       "        text-align: right;\n",
       "    }\n",
       "</style>\n",
       "<table border=\"1\" class=\"dataframe\">\n",
       "  <thead>\n",
       "    <tr style=\"text-align: right;\">\n",
       "      <th></th>\n",
       "      <th>session_id</th>\n",
       "      <th>trial_id</th>\n",
       "      <th>start</th>\n",
       "      <th>end</th>\n",
       "      <th>x</th>\n",
       "      <th>y</th>\n",
       "      <th>z</th>\n",
       "      <th>origin_x</th>\n",
       "      <th>origin_y</th>\n",
       "      <th>origin_z</th>\n",
       "      <th>duration</th>\n",
       "      <th>distance</th>\n",
       "      <th>speed</th>\n",
       "    </tr>\n",
       "  </thead>\n",
       "  <tbody>\n",
       "    <tr>\n",
       "      <th>0</th>\n",
       "      <td>NaN</td>\n",
       "      <td>NaN</td>\n",
       "      <td>2024-08-14 12:28:31.700</td>\n",
       "      <td>2024-08-14 12:28:32.050</td>\n",
       "      <td>-0.012077</td>\n",
       "      <td>-0.277806</td>\n",
       "      <td>-0.960462</td>\n",
       "      <td>-0.103872</td>\n",
       "      <td>0.007036</td>\n",
       "      <td>-0.261217</td>\n",
       "      <td>0.35</td>\n",
       "      <td>NaN</td>\n",
       "      <td>NaN</td>\n",
       "    </tr>\n",
       "    <tr>\n",
       "      <th>1</th>\n",
       "      <td>NaN</td>\n",
       "      <td>NaN</td>\n",
       "      <td>2024-08-14 12:28:32.150</td>\n",
       "      <td>2024-08-14 12:28:32.250</td>\n",
       "      <td>-0.275322</td>\n",
       "      <td>-0.082014</td>\n",
       "      <td>-0.957828</td>\n",
       "      <td>-0.093930</td>\n",
       "      <td>0.011127</td>\n",
       "      <td>-0.262677</td>\n",
       "      <td>0.10</td>\n",
       "      <td>0.328084</td>\n",
       "      <td>3.280841</td>\n",
       "    </tr>\n",
       "    <tr>\n",
       "      <th>2</th>\n",
       "      <td>NaN</td>\n",
       "      <td>NaN</td>\n",
       "      <td>2024-08-14 12:28:32.350</td>\n",
       "      <td>2024-08-14 12:28:32.500</td>\n",
       "      <td>-0.147442</td>\n",
       "      <td>-0.499240</td>\n",
       "      <td>-0.853814</td>\n",
       "      <td>-0.103529</td>\n",
       "      <td>0.008741</td>\n",
       "      <td>-0.255959</td>\n",
       "      <td>0.15</td>\n",
       "      <td>0.448609</td>\n",
       "      <td>2.990725</td>\n",
       "    </tr>\n",
       "  </tbody>\n",
       "</table>\n",
       "</div>"
      ],
      "text/plain": [
       "   session_id  trial_id                   start                     end  \\\n",
       "0         NaN       NaN 2024-08-14 12:28:31.700 2024-08-14 12:28:32.050   \n",
       "1         NaN       NaN 2024-08-14 12:28:32.150 2024-08-14 12:28:32.250   \n",
       "2         NaN       NaN 2024-08-14 12:28:32.350 2024-08-14 12:28:32.500   \n",
       "\n",
       "          x         y         z  origin_x  origin_y  origin_z  duration  \\\n",
       "0 -0.012077 -0.277806 -0.960462 -0.103872  0.007036 -0.261217      0.35   \n",
       "1 -0.275322 -0.082014 -0.957828 -0.093930  0.011127 -0.262677      0.10   \n",
       "2 -0.147442 -0.499240 -0.853814 -0.103529  0.008741 -0.255959      0.15   \n",
       "\n",
       "   distance     speed  \n",
       "0       NaN       NaN  \n",
       "1  0.328084  3.280841  \n",
       "2  0.448609  2.990725  "
      ]
     },
     "execution_count": 49,
     "metadata": {},
     "output_type": "execute_result"
    }
   ],
   "source": [
    "fixation_df[\"duration\"] = (fixation_df[\"end\"] - fixation_df[\"start\"]).dt.total_seconds()\n",
    "fixation_df[\"distance\"] = np.sqrt(fixation_df[\"x\"].diff() ** 2 + fixation_df[\"y\"].diff() ** 2 + fixation_df[\"z\"].diff() ** 2)\n",
    "fixation_df[\"speed\"] = fixation_df[\"distance\"] / fixation_df[\"duration\"]\n",
    "fixation_df.head(3)"
   ]
  },
  {
   "cell_type": "code",
   "execution_count": 50,
   "metadata": {},
   "outputs": [
    {
     "data": {
      "text/html": [
       "<div>\n",
       "<style scoped>\n",
       "    .dataframe tbody tr th:only-of-type {\n",
       "        vertical-align: middle;\n",
       "    }\n",
       "\n",
       "    .dataframe tbody tr th {\n",
       "        vertical-align: top;\n",
       "    }\n",
       "\n",
       "    .dataframe thead th {\n",
       "        text-align: right;\n",
       "    }\n",
       "</style>\n",
       "<table border=\"1\" class=\"dataframe\">\n",
       "  <thead>\n",
       "    <tr style=\"text-align: right;\">\n",
       "      <th></th>\n",
       "      <th>session_id</th>\n",
       "      <th>trial_id</th>\n",
       "      <th>start</th>\n",
       "      <th>end</th>\n",
       "      <th>x</th>\n",
       "      <th>y</th>\n",
       "      <th>z</th>\n",
       "      <th>origin_x</th>\n",
       "      <th>origin_y</th>\n",
       "      <th>origin_z</th>\n",
       "      <th>duration</th>\n",
       "      <th>distance</th>\n",
       "      <th>speed</th>\n",
       "      <th>angle</th>\n",
       "    </tr>\n",
       "  </thead>\n",
       "  <tbody>\n",
       "    <tr>\n",
       "      <th>0</th>\n",
       "      <td>NaN</td>\n",
       "      <td>NaN</td>\n",
       "      <td>2024-08-14 12:28:31.700</td>\n",
       "      <td>2024-08-14 12:28:32.050</td>\n",
       "      <td>-0.012077</td>\n",
       "      <td>-0.277806</td>\n",
       "      <td>-0.960462</td>\n",
       "      <td>-0.103872</td>\n",
       "      <td>0.007036</td>\n",
       "      <td>-0.261217</td>\n",
       "      <td>0.35</td>\n",
       "      <td>NaN</td>\n",
       "      <td>NaN</td>\n",
       "      <td>NaN</td>\n",
       "    </tr>\n",
       "    <tr>\n",
       "      <th>1</th>\n",
       "      <td>NaN</td>\n",
       "      <td>NaN</td>\n",
       "      <td>2024-08-14 12:28:32.150</td>\n",
       "      <td>2024-08-14 12:28:32.250</td>\n",
       "      <td>-0.275322</td>\n",
       "      <td>-0.082014</td>\n",
       "      <td>-0.957828</td>\n",
       "      <td>-0.093930</td>\n",
       "      <td>0.011127</td>\n",
       "      <td>-0.262677</td>\n",
       "      <td>0.10</td>\n",
       "      <td>0.328084</td>\n",
       "      <td>3.280841</td>\n",
       "      <td>0.450794</td>\n",
       "    </tr>\n",
       "    <tr>\n",
       "      <th>2</th>\n",
       "      <td>NaN</td>\n",
       "      <td>NaN</td>\n",
       "      <td>2024-08-14 12:28:32.350</td>\n",
       "      <td>2024-08-14 12:28:32.500</td>\n",
       "      <td>-0.147442</td>\n",
       "      <td>-0.499240</td>\n",
       "      <td>-0.853814</td>\n",
       "      <td>-0.103529</td>\n",
       "      <td>0.008741</td>\n",
       "      <td>-0.255959</td>\n",
       "      <td>0.15</td>\n",
       "      <td>0.448609</td>\n",
       "      <td>2.990725</td>\n",
       "      <td>0.596651</td>\n",
       "    </tr>\n",
       "  </tbody>\n",
       "</table>\n",
       "</div>"
      ],
      "text/plain": [
       "   session_id  trial_id                   start                     end  \\\n",
       "0         NaN       NaN 2024-08-14 12:28:31.700 2024-08-14 12:28:32.050   \n",
       "1         NaN       NaN 2024-08-14 12:28:32.150 2024-08-14 12:28:32.250   \n",
       "2         NaN       NaN 2024-08-14 12:28:32.350 2024-08-14 12:28:32.500   \n",
       "\n",
       "          x         y         z  origin_x  origin_y  origin_z  duration  \\\n",
       "0 -0.012077 -0.277806 -0.960462 -0.103872  0.007036 -0.261217      0.35   \n",
       "1 -0.275322 -0.082014 -0.957828 -0.093930  0.011127 -0.262677      0.10   \n",
       "2 -0.147442 -0.499240 -0.853814 -0.103529  0.008741 -0.255959      0.15   \n",
       "\n",
       "   distance     speed     angle  \n",
       "0       NaN       NaN       NaN  \n",
       "1  0.328084  3.280841  0.450794  \n",
       "2  0.448609  2.990725  0.596651  "
      ]
     },
     "execution_count": 50,
     "metadata": {},
     "output_type": "execute_result"
    }
   ],
   "source": [
    "def calculate_angles(vector_df):\n",
    "    current_vector = np.array([vector_df[column].values for column in vector_df.columns]).T\n",
    "    previous_vector = np.array([vector_df[column].shift(1).values for column in vector_df.columns]).T\n",
    "    dot_product = np.einsum('ij,ij->i', current_vector, previous_vector)\n",
    "    norm_vector = np.linalg.norm(current_vector, axis=1)\n",
    "    previous_norm_vector = np.linalg.norm(previous_vector, axis=1)\n",
    "    angle = np.arccos(dot_product / (norm_vector * previous_norm_vector))\n",
    "    return angle\n",
    "\n",
    "vector_x = fixation_df[\"x\"] - fixation_df[\"origin_x\"]\n",
    "vector_y = fixation_df[\"y\"] - fixation_df[\"origin_y\"]\n",
    "vector_z = fixation_df[\"z\"] - fixation_df[\"origin_z\"]\n",
    "fixation_df[\"angle\"] = calculate_angles(pd.DataFrame([vector_x, vector_y, vector_z], index=[\"x\", \"y\", \"z\"]).T)\n",
    "fixation_df.head(3)"
   ]
  },
  {
   "cell_type": "code",
   "execution_count": 51,
   "metadata": {},
   "outputs": [
    {
     "data": {
      "text/html": [
       "<div>\n",
       "<style scoped>\n",
       "    .dataframe tbody tr th:only-of-type {\n",
       "        vertical-align: middle;\n",
       "    }\n",
       "\n",
       "    .dataframe tbody tr th {\n",
       "        vertical-align: top;\n",
       "    }\n",
       "\n",
       "    .dataframe thead th {\n",
       "        text-align: right;\n",
       "    }\n",
       "</style>\n",
       "<table border=\"1\" class=\"dataframe\">\n",
       "  <thead>\n",
       "    <tr style=\"text-align: right;\">\n",
       "      <th></th>\n",
       "      <th>duration</th>\n",
       "      <th>distance</th>\n",
       "      <th>speed</th>\n",
       "      <th>angle</th>\n",
       "    </tr>\n",
       "  </thead>\n",
       "  <tbody>\n",
       "    <tr>\n",
       "      <th>duration</th>\n",
       "      <td>1.000000</td>\n",
       "      <td>-0.202535</td>\n",
       "      <td>-0.311375</td>\n",
       "      <td>-0.202223</td>\n",
       "    </tr>\n",
       "    <tr>\n",
       "      <th>distance</th>\n",
       "      <td>-0.202535</td>\n",
       "      <td>1.000000</td>\n",
       "      <td>0.755728</td>\n",
       "      <td>0.997123</td>\n",
       "    </tr>\n",
       "    <tr>\n",
       "      <th>speed</th>\n",
       "      <td>-0.311375</td>\n",
       "      <td>0.755728</td>\n",
       "      <td>1.000000</td>\n",
       "      <td>0.751612</td>\n",
       "    </tr>\n",
       "    <tr>\n",
       "      <th>angle</th>\n",
       "      <td>-0.202223</td>\n",
       "      <td>0.997123</td>\n",
       "      <td>0.751612</td>\n",
       "      <td>1.000000</td>\n",
       "    </tr>\n",
       "  </tbody>\n",
       "</table>\n",
       "</div>"
      ],
      "text/plain": [
       "          duration  distance     speed     angle\n",
       "duration  1.000000 -0.202535 -0.311375 -0.202223\n",
       "distance -0.202535  1.000000  0.755728  0.997123\n",
       "speed    -0.311375  0.755728  1.000000  0.751612\n",
       "angle    -0.202223  0.997123  0.751612  1.000000"
      ]
     },
     "execution_count": 51,
     "metadata": {},
     "output_type": "execute_result"
    }
   ],
   "source": [
    "fixation_df[[\"duration\", \"distance\", \"speed\", \"angle\"]].corr()"
   ]
  },
  {
   "cell_type": "code",
   "execution_count": 52,
   "metadata": {},
   "outputs": [
    {
     "data": {
      "text/plain": [
       "<matplotlib.legend.Legend at 0x7f8616106680>"
      ]
     },
     "execution_count": 52,
     "metadata": {},
     "output_type": "execute_result"
    },
    {
     "data": {
      "image/png": "[encoded data removed]",
      "text/plain": [
       "<Figure size 640x480 with 1 Axes>"
      ]
     },
     "metadata": {},
     "output_type": "display_data"
    }
   ],
   "source": [
    "scrambling = eye_ray_df.loc[eye_ray_df[\"trial_id\"] == 6, [\"direction_x\", \"direction_y\"]]\n",
    "solving = eye_ray_df.loc[eye_ray_df[\"trial_id\"] == 7, [\"direction_x\", \"direction_y\"]]\n",
    "fixations = fixation_df.loc[fixation_df[\"trial_id\"].isin([6, 7]), [\"x\", \"y\"]]\n",
    "plt.plot(solving[\"direction_x\"], solving[\"direction_y\"])\n",
    "plt.plot(scrambling[\"direction_x\"], scrambling[\"direction_y\"], color=\"orange\", alpha=0.7)\n",
    "plt.plot(fixations[\"x\"], fixations[\"y\"], \"o\", color=\"red\", alpha=0.5, markersize=1)\n",
    "plt.xlabel(\"x\")\n",
    "plt.ylabel(\"y\")\n",
    "plt.xlim(-0.3, 0.1)\n",
    "plt.ylim(-0.6, -0.4)\n",
    "plt.title(\"Eye movements of two trials\")\n",
    "plt.legend([\"solving\", \"scrambling\", \"fixations\"])"
   ]
  },
  {
   "cell_type": "code",
   "execution_count": 53,
   "metadata": {},
   "outputs": [
    {
     "data": {
      "text/html": [
       "<div>\n",
       "<style scoped>\n",
       "    .dataframe tbody tr th:only-of-type {\n",
       "        vertical-align: middle;\n",
       "    }\n",
       "\n",
       "    .dataframe tbody tr th {\n",
       "        vertical-align: top;\n",
       "    }\n",
       "\n",
       "    .dataframe thead th {\n",
       "        text-align: right;\n",
       "    }\n",
       "</style>\n",
       "<table border=\"1\" class=\"dataframe\">\n",
       "  <thead>\n",
       "    <tr style=\"text-align: right;\">\n",
       "      <th></th>\n",
       "      <th>timestamp</th>\n",
       "      <th>session_id</th>\n",
       "      <th>trial_id</th>\n",
       "      <th>x</th>\n",
       "      <th>y</th>\n",
       "      <th>z</th>\n",
       "      <th>duration</th>\n",
       "      <th>distance</th>\n",
       "      <th>speed</th>\n",
       "      <th>angle</th>\n",
       "    </tr>\n",
       "  </thead>\n",
       "  <tbody>\n",
       "    <tr>\n",
       "      <th>0</th>\n",
       "      <td>2024-08-14 12:28:31.700</td>\n",
       "      <td>NaN</td>\n",
       "      <td>NaN</td>\n",
       "      <td>-0.012077</td>\n",
       "      <td>-0.277806</td>\n",
       "      <td>-0.960462</td>\n",
       "      <td>0.35</td>\n",
       "      <td>NaN</td>\n",
       "      <td>NaN</td>\n",
       "      <td>NaN</td>\n",
       "    </tr>\n",
       "    <tr>\n",
       "      <th>1</th>\n",
       "      <td>2024-08-14 12:28:32.150</td>\n",
       "      <td>NaN</td>\n",
       "      <td>NaN</td>\n",
       "      <td>-0.275322</td>\n",
       "      <td>-0.082014</td>\n",
       "      <td>-0.957828</td>\n",
       "      <td>0.10</td>\n",
       "      <td>0.328084</td>\n",
       "      <td>3.280841</td>\n",
       "      <td>0.450794</td>\n",
       "    </tr>\n",
       "    <tr>\n",
       "      <th>2</th>\n",
       "      <td>2024-08-14 12:28:32.350</td>\n",
       "      <td>NaN</td>\n",
       "      <td>NaN</td>\n",
       "      <td>-0.147442</td>\n",
       "      <td>-0.499240</td>\n",
       "      <td>-0.853814</td>\n",
       "      <td>0.15</td>\n",
       "      <td>0.448609</td>\n",
       "      <td>2.990725</td>\n",
       "      <td>0.596651</td>\n",
       "    </tr>\n",
       "  </tbody>\n",
       "</table>\n",
       "</div>"
      ],
      "text/plain": [
       "                timestamp  session_id  trial_id         x         y         z  \\\n",
       "0 2024-08-14 12:28:31.700         NaN       NaN -0.012077 -0.277806 -0.960462   \n",
       "1 2024-08-14 12:28:32.150         NaN       NaN -0.275322 -0.082014 -0.957828   \n",
       "2 2024-08-14 12:28:32.350         NaN       NaN -0.147442 -0.499240 -0.853814   \n",
       "\n",
       "   duration  distance     speed     angle  \n",
       "0      0.35       NaN       NaN       NaN  \n",
       "1      0.10  0.328084  3.280841  0.450794  \n",
       "2      0.15  0.448609  2.990725  0.596651  "
      ]
     },
     "execution_count": 53,
     "metadata": {},
     "output_type": "execute_result"
    }
   ],
   "source": [
    "# make fixation_df compatible with the other sensor dataframes\n",
    "fixation_df.insert(0, \"timestamp\", fixation_df[\"start\"])\n",
    "fixation_df.drop(columns=[\"start\", \"end\", \"origin_x\", \"origin_y\", \"origin_z\"], inplace=True)\n",
    "fixation_df.head(3)"
   ]
  },
  {
   "cell_type": "code",
   "execution_count": 54,
   "metadata": {},
   "outputs": [
    {
     "data": {
      "image/png": "[encoded data removed]",
      "text/plain": [
       "<Figure size 1200x200 with 1 Axes>"
      ]
     },
     "metadata": {},
     "output_type": "display_data"
    }
   ],
   "source": [
    "plot_sample_rate(fixation_df)"
   ]
  },
  {
   "cell_type": "code",
   "execution_count": 55,
   "metadata": {},
   "outputs": [
    {
     "name": "stdout",
     "output_type": "stream",
     "text": [
      "Resampled from 2157 to 3172 rows\n"
     ]
    }
   ],
   "source": [
    "fixation_df = resample_dataframe(fixation_df, 3, interpolate=False)"
   ]
  },
  {
   "cell_type": "code",
   "execution_count": 56,
   "metadata": {},
   "outputs": [],
   "source": [
    "eye_ray_df = eye_ray_df[eye_ray_df[\"trial_id\"].notnull()].reset_index(drop=True)\n",
    "eye_ray_df.to_pickle(\"working/eye_ray_df.pkl\")\n",
    "fixation_df = fixation_df[fixation_df[\"trial_id\"].notnull()].reset_index(drop=True)\n",
    "fixation_df.to_pickle(\"working/fixation_df.pkl\")"
   ]
  },
  {
   "cell_type": "markdown",
   "metadata": {},
   "source": [
    "### Hand pose"
   ]
  },
  {
   "cell_type": "markdown",
   "metadata": {},
   "source": [
    "\n",
    "A hand pose is represented by a 14-dimensional vector, with 7 parameters for each hand: \n",
    "- 3 parameters encode the 3D position of the hand\n",
    "- 4 parameters determine its orientation using unitary [quaternions](https://eater.net/quaternions). \n",
    "\n",
    "Each quaternion $q$ has a real component $q_w$, representing a rotation around an axis of rotation, represented by the imaginary components $q_x$, $q_y$ and $q_z$.\n",
    "\n",
    "<!-- For the quaternion to be unitary, $\\sqrt{q_x^2 + q_y^2 + q_z^2 + q_w^2} = 1$. We could transform the quaternions into a 3D vector and an angle of rotation in radians. The angle of rotation is determined by: \n",
    "\n",
    "$$2 \\cdot acos(q_w)$$\n",
    "\n",
    "To convert the components of the axis of rotation into a unitary 3D vector, we will use the formula:\n",
    "\n",
    "$$\\forall c \\in \\{x, y, z\\}, \\frac{q_c}{\\sqrt{1 - q_w^2}}$$ \n",
    "\n",
    "A special case occurs in the absence of rotation. If this happens, read the rest of the paragraph and handle the special case. From the first formula, this would happen when $acos(q_w) = 0$, that is, when $q_w = 1$. To keep the quaternion unitary, the other components ($x, y, z$) must be zero, leading to a quaternion of the form $(1, 0, 0, 0)$. As the angle approaches zero, $\\forall c \\in \\{x, y, z\\}, q_c \\to 0$, making our vector approach the origin. The problem arises when $q_w = 1$, because we would divide by 0, making our vector undefined. To avoid that, if the angle is zero, we will replace the vector with the origin $(0, 0, 0)$. -->"
   ]
  },
  {
   "cell_type": "code",
   "execution_count": 60,
   "metadata": {},
   "outputs": [
    {
     "name": "stdout",
     "output_type": "stream",
     "text": [
      "Resampled from 18623 to 21068 rows\n"
     ]
    }
   ],
   "source": [
    "hand_pose_df = resample_dataframe(hand_pose_df, sample_rate_dict)  # in the future we could try without interpolation"
   ]
  },
  {
   "cell_type": "code",
   "execution_count": 61,
   "metadata": {},
   "outputs": [],
   "source": [
    "def angular_distance(quaternion_df):\n",
    "    dot_product = np.abs(\n",
    "        np.nansum(\n",
    "            quaternion_df.values * quaternion_df.shift(1).values,\n",
    "            axis=1,\n",
    "        )\n",
    "    )  # absolute value to avoid wrap-around issues\n",
    "    dot_product = np.clip(dot_product, 0, 1) # avoid numerical errors\n",
    "    angular_distances = 2 * np.arccos(dot_product)\n",
    "\n",
    "    return angular_distances\n",
    "\n",
    "for hand in [\"left\", \"right\"]:\n",
    "    quaternion_df = hand_pose_df[\n",
    "        [\n",
    "            f\"{hand}_orientation_x\",\n",
    "            f\"{hand}_orientation_y\",\n",
    "            f\"{hand}_orientation_z\",\n",
    "            f\"{hand}_orientation_w\",\n",
    "        ]\n",
    "    ]\n",
    "    hand_pose_df[f\"{hand}_orientation_angular_distance\"] = angular_distance(\n",
    "        quaternion_df\n",
    "    )\n",
    "    hand_pose_df[f\"{hand}_position_change\"] = np.linalg.norm(\n",
    "        hand_pose_df[[f\"{hand}_position_x\", f\"{hand}_position_y\", f\"{hand}_position_z\"]]\n",
    "        .diff(axis=0)\n",
    "        .values,\n",
    "        axis=1,\n",
    "    )"
   ]
  },
  {
   "cell_type": "code",
   "execution_count": 62,
   "metadata": {},
   "outputs": [],
   "source": [
    "hand_pose_df = hand_pose_df[hand_pose_df[\"trial_id\"].notnull()].reset_index(drop=True)\n",
    "hand_pose_df.to_pickle(\"working/hand_pose_df.pkl\")"
   ]
  },
  {
   "cell_type": "markdown",
   "metadata": {},
   "source": [
    "### Head pose\n",
    "\n",
    "The head pose is represented by a 9-dimensional vector: \n",
    "- 3D position of the head (`position_x`, `position_y`, `position_z`)\n",
    "- Normalized 3D vector indicating forward direction (`forward_x`, `forward_y`, `forward_z`)\n",
    "- Normalized 3D vector indicating upward direction (`up_x`, `up_y`, `up_z`)"
   ]
  },
  {
   "cell_type": "code",
   "execution_count": 63,
   "metadata": {},
   "outputs": [
    {
     "name": "stdout",
     "output_type": "stream",
     "text": [
      "Resampled from 22443 to 21153 rows\n"
     ]
    }
   ],
   "source": [
    "head_pose_df = resample_dataframe(head_pose_df, sample_rate_dict)"
   ]
  },
  {
   "cell_type": "code",
   "execution_count": 64,
   "metadata": {},
   "outputs": [],
   "source": [
    "def angular_distance_3d(direction_df):\n",
    "    dot_product = np.nansum(\n",
    "        direction_df.values * direction_df.shift(1).values,\n",
    "        axis=1,\n",
    "    )\n",
    "    dot_product = np.clip(dot_product, -1, 1)\n",
    "    angular_distances = np.arccos(dot_product)\n",
    "\n",
    "    return angular_distances\n",
    "\n",
    "head_pose_df[\"position_change\"] = np.linalg.norm(\n",
    "    head_pose_df[[\"position_x\", \"position_y\", \"position_z\"]].diff(axis=0).values, axis=1\n",
    ")\n",
    "head_pose_df[\"forward_angular_distance\"] = angular_distance_3d(head_pose_df[[\"forward_x\", \"forward_y\", \"forward_z\"]])\n",
    "head_pose_df[\"up_angular_distance\"] = angular_distance_3d(head_pose_df[[\"up_x\", \"up_y\", \"up_z\"]])"
   ]
  },
  {
   "cell_type": "code",
   "execution_count": 65,
   "metadata": {},
   "outputs": [],
   "source": [
    "head_pose_df = head_pose_df[head_pose_df[\"trial_id\"].notnull()].reset_index(drop=True)\n",
    "head_pose_df.to_pickle(\"working/head_pose_df.pkl\")"
   ]
  }
 ],
 "metadata": {
  "kernelspec": {
   "display_name": ".venv",
   "language": "python",
   "name": "python3"
  },
  "language_info": {
   "codemirror_mode": {
    "name": "ipython",
    "version": 3
   },
   "file_extension": ".py",
   "mimetype": "text/x-python",
   "name": "python",
   "nbconvert_exporter": "python",
   "pygments_lexer": "ipython3",
   "version": "3.12.4"
  }
 },
 "nbformat": 4,
 "nbformat_minor": 2
}
